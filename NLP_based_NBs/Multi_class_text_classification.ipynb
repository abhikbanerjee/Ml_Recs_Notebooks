{
 "cells": [
  {
   "cell_type": "markdown",
   "metadata": {},
   "source": [
    "## Multi class text classification\n",
    "\n",
    "Ref:- https://towardsdatascience.com/multi-class-text-classification-with-scikit-learn-12f1e60e0a9f"
   ]
  },
  {
   "cell_type": "code",
   "execution_count": 1,
   "metadata": {},
   "outputs": [],
   "source": [
    "import numpy as np\n",
    "import pandas as pd\n",
    "import seaborn as sns\n",
    "\n",
    "import warnings\n",
    "warnings.filterwarnings(\"ignore\")\n"
   ]
  },
  {
   "cell_type": "code",
   "execution_count": 2,
   "metadata": {},
   "outputs": [
    {
     "data": {
      "text/html": [
       "<div>\n",
       "<style scoped>\n",
       "    .dataframe tbody tr th:only-of-type {\n",
       "        vertical-align: middle;\n",
       "    }\n",
       "\n",
       "    .dataframe tbody tr th {\n",
       "        vertical-align: top;\n",
       "    }\n",
       "\n",
       "    .dataframe thead th {\n",
       "        text-align: right;\n",
       "    }\n",
       "</style>\n",
       "<table border=\"1\" class=\"dataframe\">\n",
       "  <thead>\n",
       "    <tr style=\"text-align: right;\">\n",
       "      <th></th>\n",
       "      <th>Date received</th>\n",
       "      <th>Product</th>\n",
       "      <th>Sub-product</th>\n",
       "      <th>Issue</th>\n",
       "      <th>Sub-issue</th>\n",
       "      <th>Consumer complaint narrative</th>\n",
       "      <th>Company public response</th>\n",
       "      <th>Company</th>\n",
       "      <th>State</th>\n",
       "      <th>ZIP code</th>\n",
       "      <th>Tags</th>\n",
       "      <th>Consumer consent provided?</th>\n",
       "      <th>Submitted via</th>\n",
       "      <th>Date sent to company</th>\n",
       "      <th>Company response to consumer</th>\n",
       "      <th>Timely response?</th>\n",
       "      <th>Consumer disputed?</th>\n",
       "      <th>Complaint ID</th>\n",
       "    </tr>\n",
       "  </thead>\n",
       "  <tbody>\n",
       "    <tr>\n",
       "      <th>0</th>\n",
       "      <td>03/04/2019</td>\n",
       "      <td>Debt collection</td>\n",
       "      <td>I do not know</td>\n",
       "      <td>Attempts to collect debt not owed</td>\n",
       "      <td>Debt was paid</td>\n",
       "      <td>NaN</td>\n",
       "      <td>NaN</td>\n",
       "      <td>Riverwalk Financial Corporation</td>\n",
       "      <td>SC</td>\n",
       "      <td>294XX</td>\n",
       "      <td>Servicemember</td>\n",
       "      <td>NaN</td>\n",
       "      <td>Web</td>\n",
       "      <td>03/04/2019</td>\n",
       "      <td>In progress</td>\n",
       "      <td>Yes</td>\n",
       "      <td>NaN</td>\n",
       "      <td>3169117</td>\n",
       "    </tr>\n",
       "    <tr>\n",
       "      <th>1</th>\n",
       "      <td>03/04/2019</td>\n",
       "      <td>Student loan</td>\n",
       "      <td>Federal student loan servicing</td>\n",
       "      <td>Dealing with your lender or servicer</td>\n",
       "      <td>Problem with customer service</td>\n",
       "      <td>NaN</td>\n",
       "      <td>NaN</td>\n",
       "      <td>AES/PHEAA</td>\n",
       "      <td>VA</td>\n",
       "      <td>245XX</td>\n",
       "      <td>NaN</td>\n",
       "      <td>NaN</td>\n",
       "      <td>Web</td>\n",
       "      <td>03/04/2019</td>\n",
       "      <td>Closed with explanation</td>\n",
       "      <td>Yes</td>\n",
       "      <td>NaN</td>\n",
       "      <td>3168853</td>\n",
       "    </tr>\n",
       "    <tr>\n",
       "      <th>2</th>\n",
       "      <td>03/04/2019</td>\n",
       "      <td>Credit reporting, credit repair services, or o...</td>\n",
       "      <td>Credit reporting</td>\n",
       "      <td>Incorrect information on your report</td>\n",
       "      <td>Information belongs to someone else</td>\n",
       "      <td>NaN</td>\n",
       "      <td>NaN</td>\n",
       "      <td>NAVY FEDERAL CREDIT UNION</td>\n",
       "      <td>AL</td>\n",
       "      <td>36609</td>\n",
       "      <td>NaN</td>\n",
       "      <td>NaN</td>\n",
       "      <td>Web</td>\n",
       "      <td>03/04/2019</td>\n",
       "      <td>In progress</td>\n",
       "      <td>Yes</td>\n",
       "      <td>NaN</td>\n",
       "      <td>3168437</td>\n",
       "    </tr>\n",
       "    <tr>\n",
       "      <th>3</th>\n",
       "      <td>03/04/2019</td>\n",
       "      <td>Debt collection</td>\n",
       "      <td>Medical debt</td>\n",
       "      <td>False statements or representation</td>\n",
       "      <td>Attempted to collect wrong amount</td>\n",
       "      <td>NaN</td>\n",
       "      <td>NaN</td>\n",
       "      <td>AMCOL Systems, Inc.</td>\n",
       "      <td>KS</td>\n",
       "      <td>NaN</td>\n",
       "      <td>NaN</td>\n",
       "      <td>NaN</td>\n",
       "      <td>Web</td>\n",
       "      <td>03/04/2019</td>\n",
       "      <td>Closed with explanation</td>\n",
       "      <td>Yes</td>\n",
       "      <td>NaN</td>\n",
       "      <td>3169019</td>\n",
       "    </tr>\n",
       "    <tr>\n",
       "      <th>4</th>\n",
       "      <td>03/04/2019</td>\n",
       "      <td>Vehicle loan or lease</td>\n",
       "      <td>Loan</td>\n",
       "      <td>Getting a loan or lease</td>\n",
       "      <td>Fraudulent loan</td>\n",
       "      <td>NaN</td>\n",
       "      <td>NaN</td>\n",
       "      <td>MERCEDES BENZ FINANCIAL SERVICES</td>\n",
       "      <td>CA</td>\n",
       "      <td>94062</td>\n",
       "      <td>NaN</td>\n",
       "      <td>NaN</td>\n",
       "      <td>Web</td>\n",
       "      <td>03/04/2019</td>\n",
       "      <td>In progress</td>\n",
       "      <td>Yes</td>\n",
       "      <td>NaN</td>\n",
       "      <td>3167841</td>\n",
       "    </tr>\n",
       "  </tbody>\n",
       "</table>\n",
       "</div>"
      ],
      "text/plain": [
       "  Date received                                            Product  \\\n",
       "0    03/04/2019                                    Debt collection   \n",
       "1    03/04/2019                                       Student loan   \n",
       "2    03/04/2019  Credit reporting, credit repair services, or o...   \n",
       "3    03/04/2019                                    Debt collection   \n",
       "4    03/04/2019                              Vehicle loan or lease   \n",
       "\n",
       "                      Sub-product                                 Issue  \\\n",
       "0                   I do not know     Attempts to collect debt not owed   \n",
       "1  Federal student loan servicing  Dealing with your lender or servicer   \n",
       "2                Credit reporting  Incorrect information on your report   \n",
       "3                    Medical debt    False statements or representation   \n",
       "4                            Loan               Getting a loan or lease   \n",
       "\n",
       "                             Sub-issue Consumer complaint narrative  \\\n",
       "0                        Debt was paid                          NaN   \n",
       "1        Problem with customer service                          NaN   \n",
       "2  Information belongs to someone else                          NaN   \n",
       "3    Attempted to collect wrong amount                          NaN   \n",
       "4                      Fraudulent loan                          NaN   \n",
       "\n",
       "  Company public response                           Company State ZIP code  \\\n",
       "0                     NaN   Riverwalk Financial Corporation    SC    294XX   \n",
       "1                     NaN                         AES/PHEAA    VA    245XX   \n",
       "2                     NaN         NAVY FEDERAL CREDIT UNION    AL    36609   \n",
       "3                     NaN               AMCOL Systems, Inc.    KS      NaN   \n",
       "4                     NaN  MERCEDES BENZ FINANCIAL SERVICES    CA    94062   \n",
       "\n",
       "            Tags Consumer consent provided? Submitted via  \\\n",
       "0  Servicemember                        NaN           Web   \n",
       "1            NaN                        NaN           Web   \n",
       "2            NaN                        NaN           Web   \n",
       "3            NaN                        NaN           Web   \n",
       "4            NaN                        NaN           Web   \n",
       "\n",
       "  Date sent to company Company response to consumer Timely response?  \\\n",
       "0           03/04/2019                  In progress              Yes   \n",
       "1           03/04/2019      Closed with explanation              Yes   \n",
       "2           03/04/2019                  In progress              Yes   \n",
       "3           03/04/2019      Closed with explanation              Yes   \n",
       "4           03/04/2019                  In progress              Yes   \n",
       "\n",
       "  Consumer disputed?  Complaint ID  \n",
       "0                NaN       3169117  \n",
       "1                NaN       3168853  \n",
       "2                NaN       3168437  \n",
       "3                NaN       3169019  \n",
       "4                NaN       3167841  "
      ]
     },
     "execution_count": 2,
     "metadata": {},
     "output_type": "execute_result"
    }
   ],
   "source": [
    "df = pd.read_csv(\"Consumer_Complaints.csv\")\n",
    "df.head()"
   ]
  },
  {
   "cell_type": "code",
   "execution_count": 3,
   "metadata": {},
   "outputs": [
    {
     "name": "stdout",
     "output_type": "stream",
     "text": [
      "<class 'pandas.core.frame.DataFrame'>\n",
      "RangeIndex: 1230079 entries, 0 to 1230078\n",
      "Data columns (total 18 columns):\n",
      "Date received                   1230079 non-null object\n",
      "Product                         1230079 non-null object\n",
      "Sub-product                     994913 non-null object\n",
      "Issue                           1230079 non-null object\n",
      "Sub-issue                       705753 non-null object\n",
      "Consumer complaint narrative    371081 non-null object\n",
      "Company public response         422286 non-null object\n",
      "Company                         1230079 non-null object\n",
      "State                           1211528 non-null object\n",
      "ZIP code                        1121607 non-null object\n",
      "Tags                            168067 non-null object\n",
      "Consumer consent provided?      659223 non-null object\n",
      "Submitted via                   1230079 non-null object\n",
      "Date sent to company            1230079 non-null object\n",
      "Company response to consumer    1230073 non-null object\n",
      "Timely response?                1230079 non-null object\n",
      "Consumer disputed?              768516 non-null object\n",
      "Complaint ID                    1230079 non-null int64\n",
      "dtypes: int64(1), object(17)\n",
      "memory usage: 168.9+ MB\n"
     ]
    }
   ],
   "source": [
    "df.info()"
   ]
  },
  {
   "cell_type": "markdown",
   "metadata": {},
   "source": [
    "### Get non null columns , and filter columns of interest "
   ]
  },
  {
   "cell_type": "code",
   "execution_count": 4,
   "metadata": {},
   "outputs": [
    {
     "data": {
      "text/html": [
       "<div>\n",
       "<style scoped>\n",
       "    .dataframe tbody tr th:only-of-type {\n",
       "        vertical-align: middle;\n",
       "    }\n",
       "\n",
       "    .dataframe tbody tr th {\n",
       "        vertical-align: top;\n",
       "    }\n",
       "\n",
       "    .dataframe thead th {\n",
       "        text-align: right;\n",
       "    }\n",
       "</style>\n",
       "<table border=\"1\" class=\"dataframe\">\n",
       "  <thead>\n",
       "    <tr style=\"text-align: right;\">\n",
       "      <th></th>\n",
       "      <th>Product</th>\n",
       "      <th>Consumer complaint narrative</th>\n",
       "    </tr>\n",
       "  </thead>\n",
       "  <tbody>\n",
       "    <tr>\n",
       "      <th>1510</th>\n",
       "      <td>Debt collection</td>\n",
       "      <td>Received a letter in XX/XX/XXXX from Source Re...</td>\n",
       "    </tr>\n",
       "    <tr>\n",
       "      <th>1636</th>\n",
       "      <td>Debt collection</td>\n",
       "      <td>Based on previous complaints, now more than 60...</td>\n",
       "    </tr>\n",
       "    <tr>\n",
       "      <th>1683</th>\n",
       "      <td>Debt collection</td>\n",
       "      <td>I received an alert from XXXX  on or about the...</td>\n",
       "    </tr>\n",
       "    <tr>\n",
       "      <th>1857</th>\n",
       "      <td>Debt collection</td>\n",
       "      <td>I recently received a copy of my credit report...</td>\n",
       "    </tr>\n",
       "    <tr>\n",
       "      <th>1902</th>\n",
       "      <td>Debt collection</td>\n",
       "      <td>I was garnished by a company and they can't pr...</td>\n",
       "    </tr>\n",
       "  </tbody>\n",
       "</table>\n",
       "</div>"
      ],
      "text/plain": [
       "              Product                       Consumer complaint narrative\n",
       "1510  Debt collection  Received a letter in XX/XX/XXXX from Source Re...\n",
       "1636  Debt collection  Based on previous complaints, now more than 60...\n",
       "1683  Debt collection  I received an alert from XXXX  on or about the...\n",
       "1857  Debt collection  I recently received a copy of my credit report...\n",
       "1902  Debt collection  I was garnished by a company and they can't pr..."
      ]
     },
     "execution_count": 4,
     "metadata": {},
     "output_type": "execute_result"
    }
   ],
   "source": [
    "columns_of_interest = [\"Product\", \"Consumer complaint narrative\"]\n",
    "df_complaints = df[columns_of_interest]\n",
    "\n",
    "#remove non null columns \n",
    "df_complaints = df_complaints[pd.notnull(df[\"Consumer complaint narrative\"])]\n",
    "df_complaints.head()"
   ]
  },
  {
   "cell_type": "code",
   "execution_count": 5,
   "metadata": {},
   "outputs": [
    {
     "name": "stdout",
     "output_type": "stream",
     "text": [
      "Number of non null complaints are -  (371081, 2)\n"
     ]
    }
   ],
   "source": [
    "print(\"Number of non null complaints are - \", df_complaints.shape)"
   ]
  },
  {
   "cell_type": "markdown",
   "metadata": {},
   "source": [
    "### Factorize the Product Values into labels"
   ]
  },
  {
   "cell_type": "code",
   "execution_count": 6,
   "metadata": {},
   "outputs": [
    {
     "name": "stdout",
     "output_type": "stream",
     "text": [
      "Index(['Bank account or service', 'Checking or savings account',\n",
      "       'Consumer Loan', 'Credit card', 'Credit card or prepaid card',\n",
      "       'Credit reporting',\n",
      "       'Credit reporting, credit repair services, or other personal consumer reports',\n",
      "       'Debt collection', 'Money transfer, virtual currency, or money service',\n",
      "       'Money transfers', 'Mortgage', 'Other financial service', 'Payday loan',\n",
      "       'Payday loan, title loan, or personal loan', 'Prepaid card',\n",
      "       'Student loan', 'Vehicle loan or lease', 'Virtual currency'],\n",
      "      dtype='object')\n"
     ]
    }
   ],
   "source": [
    "a,b = pd.factorize(df_complaints[\"Product\"], sort=True)\n",
    "print(b)"
   ]
  },
  {
   "cell_type": "code",
   "execution_count": 7,
   "metadata": {},
   "outputs": [
    {
     "data": {
      "text/html": [
       "<div>\n",
       "<style scoped>\n",
       "    .dataframe tbody tr th:only-of-type {\n",
       "        vertical-align: middle;\n",
       "    }\n",
       "\n",
       "    .dataframe tbody tr th {\n",
       "        vertical-align: top;\n",
       "    }\n",
       "\n",
       "    .dataframe thead th {\n",
       "        text-align: right;\n",
       "    }\n",
       "</style>\n",
       "<table border=\"1\" class=\"dataframe\">\n",
       "  <thead>\n",
       "    <tr style=\"text-align: right;\">\n",
       "      <th></th>\n",
       "      <th>Product</th>\n",
       "      <th>Consumer complaint narrative</th>\n",
       "      <th>category</th>\n",
       "    </tr>\n",
       "  </thead>\n",
       "  <tbody>\n",
       "    <tr>\n",
       "      <th>1510</th>\n",
       "      <td>Debt collection</td>\n",
       "      <td>Received a letter in XX/XX/XXXX from Source Re...</td>\n",
       "      <td>7</td>\n",
       "    </tr>\n",
       "    <tr>\n",
       "      <th>1636</th>\n",
       "      <td>Debt collection</td>\n",
       "      <td>Based on previous complaints, now more than 60...</td>\n",
       "      <td>7</td>\n",
       "    </tr>\n",
       "    <tr>\n",
       "      <th>1683</th>\n",
       "      <td>Debt collection</td>\n",
       "      <td>I received an alert from XXXX  on or about the...</td>\n",
       "      <td>7</td>\n",
       "    </tr>\n",
       "    <tr>\n",
       "      <th>1857</th>\n",
       "      <td>Debt collection</td>\n",
       "      <td>I recently received a copy of my credit report...</td>\n",
       "      <td>7</td>\n",
       "    </tr>\n",
       "    <tr>\n",
       "      <th>1902</th>\n",
       "      <td>Debt collection</td>\n",
       "      <td>I was garnished by a company and they can't pr...</td>\n",
       "      <td>7</td>\n",
       "    </tr>\n",
       "    <tr>\n",
       "      <th>1955</th>\n",
       "      <td>Mortgage</td>\n",
       "      <td>According To XXXX XXXX XXXX XXXX XXXX XXXX Is ...</td>\n",
       "      <td>10</td>\n",
       "    </tr>\n",
       "    <tr>\n",
       "      <th>2029</th>\n",
       "      <td>Debt collection</td>\n",
       "      <td>This is regarding the purchase of item on XX/X...</td>\n",
       "      <td>7</td>\n",
       "    </tr>\n",
       "    <tr>\n",
       "      <th>2101</th>\n",
       "      <td>Debt collection</td>\n",
       "      <td>Received notification of a derogatory error on...</td>\n",
       "      <td>7</td>\n",
       "    </tr>\n",
       "    <tr>\n",
       "      <th>2246</th>\n",
       "      <td>Credit reporting, credit repair services, or o...</td>\n",
       "      <td>To whom it may concern : I went through XXXX X...</td>\n",
       "      <td>6</td>\n",
       "    </tr>\n",
       "    <tr>\n",
       "      <th>2488</th>\n",
       "      <td>Checking or savings account</td>\n",
       "      <td>XXXX XXXX refused to open my account located o...</td>\n",
       "      <td>1</td>\n",
       "    </tr>\n",
       "    <tr>\n",
       "      <th>2514</th>\n",
       "      <td>Debt collection</td>\n",
       "      <td>On XX/XX/2019 I called and spoke with a Very R...</td>\n",
       "      <td>7</td>\n",
       "    </tr>\n",
       "    <tr>\n",
       "      <th>2526</th>\n",
       "      <td>Debt collection</td>\n",
       "      <td>I Called and Have Spoke with this Company who ...</td>\n",
       "      <td>7</td>\n",
       "    </tr>\n",
       "    <tr>\n",
       "      <th>2528</th>\n",
       "      <td>Credit reporting, credit repair services, or o...</td>\n",
       "      <td>This company is so unprofessional. They have y...</td>\n",
       "      <td>6</td>\n",
       "    </tr>\n",
       "    <tr>\n",
       "      <th>2534</th>\n",
       "      <td>Debt collection</td>\n",
       "      <td>This account was paid and settle with the orig...</td>\n",
       "      <td>7</td>\n",
       "    </tr>\n",
       "    <tr>\n",
       "      <th>2538</th>\n",
       "      <td>Debt collection</td>\n",
       "      <td>Received letter from Atty., Arnold Scott Harri...</td>\n",
       "      <td>7</td>\n",
       "    </tr>\n",
       "    <tr>\n",
       "      <th>2556</th>\n",
       "      <td>Mortgage</td>\n",
       "      <td>My credit report shows the mortgage still open...</td>\n",
       "      <td>10</td>\n",
       "    </tr>\n",
       "    <tr>\n",
       "      <th>2586</th>\n",
       "      <td>Debt collection</td>\n",
       "      <td>I seen on my credit report on that national re...</td>\n",
       "      <td>7</td>\n",
       "    </tr>\n",
       "    <tr>\n",
       "      <th>2706</th>\n",
       "      <td>Debt collection</td>\n",
       "      <td>Wells Fargo calls me from different spoof numb...</td>\n",
       "      <td>7</td>\n",
       "    </tr>\n",
       "    <tr>\n",
       "      <th>2750</th>\n",
       "      <td>Credit reporting, credit repair services, or o...</td>\n",
       "      <td>Tower Loan at XXXX XXXX  XXXX XXXX In XXXX, MS...</td>\n",
       "      <td>6</td>\n",
       "    </tr>\n",
       "    <tr>\n",
       "      <th>2778</th>\n",
       "      <td>Credit reporting, credit repair services, or o...</td>\n",
       "      <td>I enrolled in a debt rehabilitation program af...</td>\n",
       "      <td>6</td>\n",
       "    </tr>\n",
       "  </tbody>\n",
       "</table>\n",
       "</div>"
      ],
      "text/plain": [
       "                                                Product  \\\n",
       "1510                                    Debt collection   \n",
       "1636                                    Debt collection   \n",
       "1683                                    Debt collection   \n",
       "1857                                    Debt collection   \n",
       "1902                                    Debt collection   \n",
       "1955                                           Mortgage   \n",
       "2029                                    Debt collection   \n",
       "2101                                    Debt collection   \n",
       "2246  Credit reporting, credit repair services, or o...   \n",
       "2488                        Checking or savings account   \n",
       "2514                                    Debt collection   \n",
       "2526                                    Debt collection   \n",
       "2528  Credit reporting, credit repair services, or o...   \n",
       "2534                                    Debt collection   \n",
       "2538                                    Debt collection   \n",
       "2556                                           Mortgage   \n",
       "2586                                    Debt collection   \n",
       "2706                                    Debt collection   \n",
       "2750  Credit reporting, credit repair services, or o...   \n",
       "2778  Credit reporting, credit repair services, or o...   \n",
       "\n",
       "                           Consumer complaint narrative  category  \n",
       "1510  Received a letter in XX/XX/XXXX from Source Re...         7  \n",
       "1636  Based on previous complaints, now more than 60...         7  \n",
       "1683  I received an alert from XXXX  on or about the...         7  \n",
       "1857  I recently received a copy of my credit report...         7  \n",
       "1902  I was garnished by a company and they can't pr...         7  \n",
       "1955  According To XXXX XXXX XXXX XXXX XXXX XXXX Is ...        10  \n",
       "2029  This is regarding the purchase of item on XX/X...         7  \n",
       "2101  Received notification of a derogatory error on...         7  \n",
       "2246  To whom it may concern : I went through XXXX X...         6  \n",
       "2488  XXXX XXXX refused to open my account located o...         1  \n",
       "2514  On XX/XX/2019 I called and spoke with a Very R...         7  \n",
       "2526  I Called and Have Spoke with this Company who ...         7  \n",
       "2528  This company is so unprofessional. They have y...         6  \n",
       "2534  This account was paid and settle with the orig...         7  \n",
       "2538  Received letter from Atty., Arnold Scott Harri...         7  \n",
       "2556  My credit report shows the mortgage still open...        10  \n",
       "2586  I seen on my credit report on that national re...         7  \n",
       "2706  Wells Fargo calls me from different spoof numb...         7  \n",
       "2750  Tower Loan at XXXX XXXX  XXXX XXXX In XXXX, MS...         6  \n",
       "2778  I enrolled in a debt rehabilitation program af...         6  "
      ]
     },
     "execution_count": 7,
     "metadata": {},
     "output_type": "execute_result"
    }
   ],
   "source": [
    "df_complaints[\"category\"] = pd.factorize(df_complaints[\"Product\"], sort=True)[0]\n",
    "df_complaints\n",
    "df_complaints.head(n=20)\n"
   ]
  },
  {
   "cell_type": "markdown",
   "metadata": {},
   "source": [
    "### Create Dictionaries"
   ]
  },
  {
   "cell_type": "code",
   "execution_count": 8,
   "metadata": {},
   "outputs": [
    {
     "name": "stdout",
     "output_type": "stream",
     "text": [
      "<class 'pandas.core.frame.DataFrame'>\n",
      "                                                  Product  category\n",
      "461565                            Bank account or service         0\n",
      "2488                          Checking or savings account         1\n",
      "461611                                      Consumer Loan         2\n",
      "461563                                        Credit card         3\n",
      "3134                          Credit card or prepaid card         4\n",
      "461567                                   Credit reporting         5\n",
      "2246    Credit reporting, credit repair services, or o...         6\n",
      "1510                                      Debt collection         7\n",
      "3544    Money transfer, virtual currency, or money ser...         8\n",
      "461579                                    Money transfers         9\n",
      "1955                                             Mortgage        10\n",
      "462465                            Other financial service        11\n",
      "461655                                        Payday loan        12\n",
      "2909            Payday loan, title loan, or personal loan        13\n",
      "461797                                       Prepaid card        14\n",
      "5878                                         Student loan        15\n",
      "5104                                Vehicle loan or lease        16\n",
      "474144                                   Virtual currency        17\n"
     ]
    }
   ],
   "source": [
    "category_id_df = df_complaints[[\"Product\",\"category\"]].drop_duplicates().sort_values(\"category\")\n",
    "print(type(category_id_df))\n",
    "print(category_id_df)"
   ]
  },
  {
   "cell_type": "code",
   "execution_count": 9,
   "metadata": {},
   "outputs": [
    {
     "name": "stdout",
     "output_type": "stream",
     "text": [
      "{'Bank account or service': 0, 'Checking or savings account': 1, 'Consumer Loan': 2, 'Credit card': 3, 'Credit card or prepaid card': 4, 'Credit reporting': 5, 'Credit reporting, credit repair services, or other personal consumer reports': 6, 'Debt collection': 7, 'Money transfer, virtual currency, or money service': 8, 'Money transfers': 9, 'Mortgage': 10, 'Other financial service': 11, 'Payday loan': 12, 'Payday loan, title loan, or personal loan': 13, 'Prepaid card': 14, 'Student loan': 15, 'Vehicle loan or lease': 16, 'Virtual currency': 17}\n",
      "\n",
      "{0: 'Bank account or service', 1: 'Checking or savings account', 2: 'Consumer Loan', 3: 'Credit card', 4: 'Credit card or prepaid card', 5: 'Credit reporting', 6: 'Credit reporting, credit repair services, or other personal consumer reports', 7: 'Debt collection', 8: 'Money transfer, virtual currency, or money service', 9: 'Money transfers', 10: 'Mortgage', 11: 'Other financial service', 12: 'Payday loan', 13: 'Payday loan, title loan, or personal loan', 14: 'Prepaid card', 15: 'Student loan', 16: 'Vehicle loan or lease', 17: 'Virtual currency'}\n"
     ]
    }
   ],
   "source": [
    "category_to_id = dict(category_id_df.values)\n",
    "print(\n",
    ")\n",
    "print()\n",
    "id_to_category = dict(category_id_df[[\"category\", \"Product\"]].values)\n",
    "print(id_to_category)"
   ]
  },
  {
   "cell_type": "markdown",
   "metadata": {},
   "source": [
    "## Check for the distribution between the multiple classes"
   ]
  },
  {
   "cell_type": "code",
   "execution_count": 10,
   "metadata": {},
   "outputs": [
    {
     "data": {
      "image/png": "[encoded data removed]",
      "text/plain": [
       "<Figure size 576x432 with 1 Axes>"
      ]
     },
     "metadata": {},
     "output_type": "display_data"
    }
   ],
   "source": [
    "import matplotlib.pyplot as plt\n",
    "%matplotlib inline\n",
    "fig = plt.figure(figsize=(8,6))\n",
    "df_complaints.groupby(\"Product\")[\"Consumer complaint narrative\"].count().plot.bar()\n",
    "plt.xlabel(\"Products\")\n",
    "plt.ylabel(\"Frequencies\")\n",
    "plt.title(\"Class Distribution\")\n",
    "plt.show()"
   ]
  },
  {
   "cell_type": "markdown",
   "metadata": {},
   "source": [
    "### Transform text into numerical features for the model"
   ]
  },
  {
   "cell_type": "code",
   "execution_count": 11,
   "metadata": {},
   "outputs": [],
   "source": [
    "from sklearn.feature_extraction.text import TfidfVectorizer\n",
    "\n",
    "tfidf = TfidfVectorizer(sublinear_tf=True, min_df=5, norm='l2', \n",
    "                        encoding='latin-1', stop_words='english', ngram_range=(1,2))\n",
    "features = tfidf.fit_transform(df_complaints[\"Consumer complaint narrative\"])"
   ]
  },
  {
   "cell_type": "code",
   "execution_count": 12,
   "metadata": {},
   "outputs": [
    {
     "data": {
      "text/plain": [
       "scipy.sparse.csr.csr_matrix"
      ]
     },
     "execution_count": 12,
     "metadata": {},
     "output_type": "execute_result"
    }
   ],
   "source": [
    "type(features)"
   ]
  },
  {
   "cell_type": "code",
   "execution_count": 13,
   "metadata": {},
   "outputs": [],
   "source": [
    "labels = df_complaints[\"category\"]"
   ]
  },
  {
   "cell_type": "code",
   "execution_count": 14,
   "metadata": {},
   "outputs": [
    {
     "name": "stdout",
     "output_type": "stream",
     "text": [
      "(371081, 708135)\n",
      "(371081,)\n"
     ]
    }
   ],
   "source": [
    "print(features.shape)\n",
    "print(labels.shape)"
   ]
  },
  {
   "cell_type": "code",
   "execution_count": 64,
   "metadata": {},
   "outputs": [
    {
     "data": {
      "text/plain": [
       "['fincen', 'signup']"
      ]
     },
     "execution_count": 64,
     "metadata": {},
     "output_type": "execute_result"
    }
   ],
   "source": [
    "# features_chi2 = chi2(features, labels == 0)\n",
    "# indices = np.argsort(features_chi2[0])\n",
    "# feature_names = np.array(tfidf.get_feature_names())[indices]\n",
    "# unigrams = [v for v in feature_names if len(v.split(' ')) == 1]\n",
    "# bigrams = [v for v in feature_names if len(v.split(' ')) == 2]\n",
    "unigrams[30303:]"
   ]
  },
  {
   "cell_type": "markdown",
   "metadata": {},
   "source": [
    "### Find the top 2 features (unigrams and bigrams with the highest chi squared value"
   ]
  },
  {
   "cell_type": "code",
   "execution_count": 50,
   "metadata": {},
   "outputs": [
    {
     "name": "stdout",
     "output_type": "stream",
     "text": [
      "# 'Bank account or service':\n",
      "  . Most correlated unigrams:\n",
      ". bank\n",
      ". overdraft\n",
      "  . Most correlated bigrams:\n",
      ". overdraft fees\n",
      ". checking account\n",
      "# 'Checking or savings account':\n",
      "  . Most correlated unigrams:\n",
      ". overdraft\n",
      ". deposit\n",
      "  . Most correlated bigrams:\n",
      ". 00 bonus\n",
      ". checking account\n",
      "# 'Consumer Loan':\n",
      "  . Most correlated unigrams:\n",
      ". vehicle\n",
      ". car\n",
      "  . Most correlated bigrams:\n",
      ". chrysler capital\n",
      ". auto loan\n",
      "# 'Credit card':\n",
      "  . Most correlated unigrams:\n",
      ". macy\n",
      ". card\n",
      "  . Most correlated bigrams:\n",
      ". american express\n",
      ". credit card\n",
      "# 'Credit card or prepaid card':\n",
      "  . Most correlated unigrams:\n",
      ". express\n",
      ". card\n",
      "  . Most correlated bigrams:\n",
      ". american express\n",
      ". credit card\n",
      "# 'Credit reporting':\n",
      "  . Most correlated unigrams:\n",
      ". equifax\n",
      ". experian\n",
      "  . Most correlated bigrams:\n",
      ". disputed resolve\n",
      ". credit report\n",
      "# 'Credit reporting, credit repair services, or other personal consumer reports':\n",
      "  . Most correlated unigrams:\n",
      ". inquiries\n",
      ". equifax\n",
      "  . Most correlated bigrams:\n",
      ". report understanding\n",
      ". mistakes appear\n",
      "# 'Debt collection':\n",
      "  . Most correlated unigrams:\n",
      ". collection\n",
      ". debt\n",
      "  . Most correlated bigrams:\n",
      ". collection agency\n",
      ". collect debt\n",
      "# 'Money transfer, virtual currency, or money service':\n",
      "  . Most correlated unigrams:\n",
      ". bitcoin\n",
      ". coinbase\n",
      "  . Most correlated bigrams:\n",
      ". xxxx coinbase\n",
      ". coinbase account\n",
      "# 'Money transfers':\n",
      "  . Most correlated unigrams:\n",
      ". moneygram\n",
      ". western\n",
      "  . Most correlated bigrams:\n",
      ". money gram\n",
      ". western union\n",
      "# 'Mortgage':\n",
      "  . Most correlated unigrams:\n",
      ". modification\n",
      ". mortgage\n",
      "  . Most correlated bigrams:\n",
      ". mortgage company\n",
      ". loan modification\n",
      "# 'Other financial service':\n",
      "  . Most correlated unigrams:\n",
      ". fedloanhelp\n",
      ". lexington\n",
      "  . Most correlated bigrams:\n",
      ". global client\n",
      ". lexington law\n",
      "# 'Payday loan':\n",
      "  . Most correlated unigrams:\n",
      ". castle\n",
      ". payday\n",
      "  . Most correlated bigrams:\n",
      ". castle payday\n",
      ". payday loan\n",
      "# 'Payday loan, title loan, or personal loan':\n",
      "  . Most correlated unigrams:\n",
      ". borrowed\n",
      ". payday\n",
      "  . Most correlated bigrams:\n",
      ". 00 loan\n",
      ". title loan\n",
      "# 'Prepaid card':\n",
      "  . Most correlated unigrams:\n",
      ". rush\n",
      ". rushcard\n",
      "  . Most correlated bigrams:\n",
      ". prepaid card\n",
      ". rush card\n",
      "# 'Student loan':\n",
      "  . Most correlated unigrams:\n",
      ". loans\n",
      ". navient\n",
      "  . Most correlated bigrams:\n",
      ". student loans\n",
      ". student loan\n",
      "# 'Vehicle loan or lease':\n",
      "  . Most correlated unigrams:\n",
      ". car\n",
      ". vehicle\n",
      "  . Most correlated bigrams:\n",
      ". credit acceptance\n",
      ". gm financial\n",
      "# 'Virtual currency':\n",
      "  . Most correlated unigrams:\n",
      ". fincen\n",
      ". signup\n",
      "  . Most correlated bigrams:\n",
      ". met fact\n",
      ". signed 75\n"
     ]
    }
   ],
   "source": [
    "from sklearn.feature_selection import SelectKBest\n",
    "from sklearn.feature_selection import chi2\n",
    "\n",
    "N = 2\n",
    "for Product, category_id in sorted(category_to_id.items()):\n",
    "    features_chi2 = chi2(features, labels == category_id)\n",
    "    indices = np.argsort(features_chi2[0])\n",
    "    feature_names = np.array(tfidf.get_feature_names())[indices]\n",
    "    unigrams = [v for v in feature_names if len(v.split(' ')) == 1]\n",
    "    bigrams = [v for v in feature_names if len(v.split(' ')) == 2]\n",
    "    print(\"# '{}':\".format(Product))\n",
    "    print(\"  . Most correlated unigrams:\\n. {}\".format('\\n. '.join(unigrams[-N:])))\n",
    "    print(\"  . Most correlated bigrams:\\n. {}\".format('\\n. '.join(bigrams[-N:])))"
   ]
  },
  {
   "cell_type": "markdown",
   "metadata": {},
   "source": [
    "### Train some base classifiers now , using NB, LR, RF and Linear SVM"
   ]
  },
  {
   "cell_type": "code",
   "execution_count": 90,
   "metadata": {},
   "outputs": [],
   "source": [
    "### Naive Bayes model to start with\n",
    "\n",
    "from sklearn.naive_bayes import MultinomialNB\n",
    "from sklearn.model_selection import train_test_split\n",
    "from sklearn.feature_extraction.text import CountVectorizer, TfidfTransformer\n",
    "\n",
    "X_train, X_test, Y_train, Y_test = train_test_split(df_complaints[\"Consumer complaint narrative\"], \n",
    "                                                    df_complaints[\"Product\"], random_state=41)\n",
    "count_vect = CountVectorizer()\n",
    "X_train_counts = count_vect.fit_transform(X_train)\n"
   ]
  },
  {
   "cell_type": "code",
   "execution_count": 1,
   "metadata": {},
   "outputs": [
    {
     "name": "stdout",
     "output_type": "stream",
     "text": [
      " \n"
     ]
    }
   ],
   "source": [
    "# using the TFIDFVectorizer is equivalent to using CountVectorizer followed by TfIdfTransformer\n",
    "# print(count_vect.get_feature_names())\n",
    "print(\" \")\n",
    "# print(X_train_counts.toarray())"
   ]
  },
  {
   "cell_type": "markdown",
   "metadata": {},
   "source": [
    "### Check the results of the TFIDF Transformer"
   ]
  },
  {
   "cell_type": "code",
   "execution_count": 92,
   "metadata": {},
   "outputs": [
    {
     "name": "stdout",
     "output_type": "stream",
     "text": [
      "(278310,)\n",
      "(278310, 99062)\n"
     ]
    }
   ],
   "source": [
    "print(X_train.shape)\n",
    "print(X_train_counts.shape)\n",
    "\n",
    "tfidfvect = TfidfTransformer()\n",
    "X_train_tfidf = tfidfvect.fit_transform(X_train_counts)\n",
    "\n",
    "# print(X_train_tfidf)"
   ]
  },
  {
   "cell_type": "code",
   "execution_count": 93,
   "metadata": {},
   "outputs": [
    {
     "data": {
      "text/plain": [
       "MultinomialNB(alpha=1.0, class_prior=None, fit_prior=True)"
      ]
     },
     "execution_count": 93,
     "metadata": {},
     "output_type": "execute_result"
    }
   ],
   "source": [
    "nb_clf = MultinomialNB()\n",
    "nb_clf.fit(X_train_tfidf, Y_train)"
   ]
  },
  {
   "cell_type": "markdown",
   "metadata": {},
   "source": [
    "### Predict a few examples"
   ]
  },
  {
   "cell_type": "code",
   "execution_count": 94,
   "metadata": {},
   "outputs": [
    {
     "name": "stdout",
     "output_type": "stream",
     "text": [
      "['Debt collection']\n"
     ]
    }
   ],
   "source": [
    "print(nb_clf.predict(tfidfvect.transform(count_vect.transform([\"This company refuses to provide me verification and validation of debt per my right under the FDCPA. I do not believe this debt is mine.\"]))))\n"
   ]
  },
  {
   "cell_type": "code",
   "execution_count": 96,
   "metadata": {},
   "outputs": [
    {
     "data": {
      "text/html": [
       "<div>\n",
       "<style scoped>\n",
       "    .dataframe tbody tr th:only-of-type {\n",
       "        vertical-align: middle;\n",
       "    }\n",
       "\n",
       "    .dataframe tbody tr th {\n",
       "        vertical-align: top;\n",
       "    }\n",
       "\n",
       "    .dataframe thead th {\n",
       "        text-align: right;\n",
       "    }\n",
       "</style>\n",
       "<table border=\"1\" class=\"dataframe\">\n",
       "  <thead>\n",
       "    <tr style=\"text-align: right;\">\n",
       "      <th></th>\n",
       "      <th>Product</th>\n",
       "      <th>Consumer complaint narrative</th>\n",
       "      <th>category</th>\n",
       "    </tr>\n",
       "  </thead>\n",
       "  <tbody>\n",
       "    <tr>\n",
       "      <th>709872</th>\n",
       "      <td>Debt collection</td>\n",
       "      <td>This company refuses to provide me verificatio...</td>\n",
       "      <td>7</td>\n",
       "    </tr>\n",
       "  </tbody>\n",
       "</table>\n",
       "</div>"
      ],
      "text/plain": [
       "                Product                       Consumer complaint narrative  \\\n",
       "709872  Debt collection  This company refuses to provide me verificatio...   \n",
       "\n",
       "        category  \n",
       "709872         7  "
      ]
     },
     "execution_count": 96,
     "metadata": {},
     "output_type": "execute_result"
    }
   ],
   "source": [
    "df_complaints[df_complaints[\"Consumer complaint narrative\"]==\"This company refuses to provide me verification and validation of debt per my right under the FDCPA. I do not believe this debt is mine.\"]"
   ]
  },
  {
   "cell_type": "code",
   "execution_count": 98,
   "metadata": {},
   "outputs": [
    {
     "name": "stdout",
     "output_type": "stream",
     "text": [
      "['Credit reporting, credit repair services, or other personal consumer reports']\n"
     ]
    }
   ],
   "source": [
    "text_to_predict = \"I am disputing the inaccurate information the Chex-Systems has on my credit report. I initially submitted a police report on XXXX/XXXX/16 and Chex Systems only deleted the items that I mentioned in the letter and not all the items that were actually listed on the police report. In other words they wanted me to say word for word to them what items were fraudulent. The total disregard of the police report and what accounts that it states that are fraudulent. If they just had paid a little closer attention to the police report I would not been in this position now and they would n't have to research once again. I would like the reported information to be removed : XXXX XXXX XXXX\"\n",
    "\n",
    "print(nb_clf.predict(tfidfvect.transform(count_vect.transform([text_to_predict]))))"
   ]
  },
  {
   "cell_type": "code",
   "execution_count": 99,
   "metadata": {},
   "outputs": [
    {
     "data": {
      "text/html": [
       "<div>\n",
       "<style scoped>\n",
       "    .dataframe tbody tr th:only-of-type {\n",
       "        vertical-align: middle;\n",
       "    }\n",
       "\n",
       "    .dataframe tbody tr th {\n",
       "        vertical-align: top;\n",
       "    }\n",
       "\n",
       "    .dataframe thead th {\n",
       "        text-align: right;\n",
       "    }\n",
       "</style>\n",
       "<table border=\"1\" class=\"dataframe\">\n",
       "  <thead>\n",
       "    <tr style=\"text-align: right;\">\n",
       "      <th></th>\n",
       "      <th>Product</th>\n",
       "      <th>Consumer complaint narrative</th>\n",
       "      <th>category</th>\n",
       "    </tr>\n",
       "  </thead>\n",
       "  <tbody>\n",
       "    <tr>\n",
       "      <th>675770</th>\n",
       "      <td>Credit reporting</td>\n",
       "      <td>I am disputing the inaccurate information the ...</td>\n",
       "      <td>5</td>\n",
       "    </tr>\n",
       "  </tbody>\n",
       "</table>\n",
       "</div>"
      ],
      "text/plain": [
       "                 Product                       Consumer complaint narrative  \\\n",
       "675770  Credit reporting  I am disputing the inaccurate information the ...   \n",
       "\n",
       "        category  \n",
       "675770         5  "
      ]
     },
     "execution_count": 99,
     "metadata": {},
     "output_type": "execute_result"
    }
   ],
   "source": [
    "df_complaints[df_complaints[\"Consumer complaint narrative\"]==text_to_predict]"
   ]
  },
  {
   "cell_type": "markdown",
   "metadata": {},
   "source": [
    "### Try other models - Use Cross Validation to get the accuracies"
   ]
  },
  {
   "cell_type": "code",
   "execution_count": 101,
   "metadata": {},
   "outputs": [
    {
     "name": "stdout",
     "output_type": "stream",
     "text": [
      "[CV]  ................................................................\n",
      "[CV] ................................................. , total=   8.4s\n",
      "[CV]  ................................................................\n"
     ]
    },
    {
     "name": "stderr",
     "output_type": "stream",
     "text": [
      "[Parallel(n_jobs=1)]: Done   1 out of   1 | elapsed:    8.7s remaining:    0.0s\n"
     ]
    },
    {
     "name": "stdout",
     "output_type": "stream",
     "text": [
      "[CV] ................................................. , total=   7.7s\n",
      "[CV]  ................................................................\n",
      "[CV] ................................................. , total=   8.1s\n",
      "[CV]  ................................................................\n",
      "[CV] ................................................. , total=   7.3s\n",
      "[CV]  ................................................................\n",
      "[CV] ................................................. , total=   8.1s\n",
      "[CV]  ................................................................\n"
     ]
    },
    {
     "name": "stderr",
     "output_type": "stream",
     "text": [
      "[Parallel(n_jobs=1)]: Done   5 out of   5 | elapsed:   40.1s finished\n"
     ]
    },
    {
     "name": "stdout",
     "output_type": "stream",
     "text": [
      "[CV] ................................................. , total= 1.3min\n",
      "[CV]  ................................................................\n"
     ]
    },
    {
     "name": "stderr",
     "output_type": "stream",
     "text": [
      "[Parallel(n_jobs=1)]: Done   1 out of   1 | elapsed:  1.3min remaining:    0.0s\n"
     ]
    },
    {
     "name": "stdout",
     "output_type": "stream",
     "text": [
      "[CV] ................................................. , total= 1.5min\n",
      "[CV]  ................................................................\n",
      "[CV] ................................................. , total= 1.3min\n",
      "[CV]  ................................................................\n",
      "[CV] ................................................. , total= 1.3min\n",
      "[CV]  ................................................................\n",
      "[CV] ................................................. , total= 1.2min\n",
      "[CV]  ................................................................\n"
     ]
    },
    {
     "name": "stderr",
     "output_type": "stream",
     "text": [
      "[Parallel(n_jobs=1)]: Done   5 out of   5 | elapsed:  6.7min finished\n"
     ]
    },
    {
     "name": "stdout",
     "output_type": "stream",
     "text": [
      "[CV] ................................................. , total=   3.9s\n",
      "[CV]  ................................................................\n"
     ]
    },
    {
     "name": "stderr",
     "output_type": "stream",
     "text": [
      "[Parallel(n_jobs=1)]: Done   1 out of   1 | elapsed:    4.1s remaining:    0.0s\n"
     ]
    },
    {
     "name": "stdout",
     "output_type": "stream",
     "text": [
      "[CV] ................................................. , total=   3.8s\n",
      "[CV]  ................................................................\n",
      "[CV] ................................................. , total=   3.8s\n",
      "[CV]  ................................................................\n",
      "[CV] ................................................. , total=   3.8s\n",
      "[CV]  ................................................................\n",
      "[CV] ................................................. , total=   3.8s\n"
     ]
    },
    {
     "name": "stderr",
     "output_type": "stream",
     "text": [
      "[Parallel(n_jobs=1)]: Done   5 out of   5 | elapsed:   19.6s finished\n"
     ]
    },
    {
     "name": "stdout",
     "output_type": "stream",
     "text": [
      "[CV]  ................................................................\n",
      "[CV] ................................................. , total= 5.0min\n",
      "[CV]  ................................................................\n"
     ]
    },
    {
     "name": "stderr",
     "output_type": "stream",
     "text": [
      "[Parallel(n_jobs=1)]: Done   1 out of   1 | elapsed:  5.0min remaining:    0.0s\n"
     ]
    },
    {
     "name": "stdout",
     "output_type": "stream",
     "text": [
      "[CV] ................................................. , total= 5.1min\n",
      "[CV]  ................................................................\n",
      "[CV] ................................................. , total= 5.3min\n",
      "[CV]  ................................................................\n",
      "[CV] ................................................ , total=171.5min\n",
      "[CV]  ................................................................\n",
      "[CV] ................................................. , total= 6.0min\n"
     ]
    },
    {
     "name": "stderr",
     "output_type": "stream",
     "text": [
      "[Parallel(n_jobs=1)]: Done   5 out of   5 | elapsed: 192.8min finished\n"
     ]
    }
   ],
   "source": [
    "from sklearn.linear_model import LogisticRegression\n",
    "from sklearn.svm import LinearSVC\n",
    "from sklearn.naive_bayes import MultinomialNB\n",
    "from sklearn.tree import DecisionTreeClassifier\n",
    "from sklearn.ensemble import RandomForestClassifier\n",
    "\n",
    "from sklearn.model_selection import cross_val_score\n",
    "\n",
    "models = [RandomForestClassifier(n_estimators=20, max_depth=3, random_state=11),\n",
    "          LinearSVC(),\n",
    "         MultinomialNB(),\n",
    "         LogisticRegression(random_state=11)]\n",
    "\n",
    "CV = 5\n",
    "entries = []\n",
    "for model in models:\n",
    "    model_name = model.__class__.__name__\n",
    "    accuracies = cross_val_score(model, features, labels, scoring='accuracy', cv=CV, verbose=2, njobs=-1)\n",
    "    for item, accuracy in enumerate(accuracies):\n",
    "        entries.append((model_name,item,accuracy ))\n",
    "    cv_pd = pd.DataFrame(entries, columns=[\"model_name\", \"idx\", \"accuracy\"])\n",
    "    "
   ]
  },
  {
   "cell_type": "code",
   "execution_count": 104,
   "metadata": {},
   "outputs": [
    {
     "name": "stdout",
     "output_type": "stream",
     "text": [
      "(20, 3)\n",
      "                model_name  idx  accuracy\n",
      "0   RandomForestClassifier    0  0.290058\n",
      "1   RandomForestClassifier    1  0.310384\n",
      "2   RandomForestClassifier    2  0.278225\n",
      "3   RandomForestClassifier    3  0.271425\n",
      "4   RandomForestClassifier    4  0.266130\n",
      "5                LinearSVC    0  0.697560\n",
      "6                LinearSVC    1  0.727072\n",
      "7                LinearSVC    2  0.741340\n",
      "8                LinearSVC    3  0.734962\n",
      "9                LinearSVC    4  0.688012\n",
      "10           MultinomialNB    0  0.580171\n",
      "11           MultinomialNB    1  0.585980\n",
      "12           MultinomialNB    2  0.590646\n",
      "13           MultinomialNB    3  0.604754\n",
      "14           MultinomialNB    4  0.586958\n",
      "15      LogisticRegression    0  0.703582\n",
      "16      LogisticRegression    1  0.738821\n",
      "17      LogisticRegression    2  0.752712\n",
      "18      LogisticRegression    3  0.743276\n",
      "19      LogisticRegression    4  0.704614\n"
     ]
    }
   ],
   "source": [
    "print(cv_pd.shape)\n",
    "print(cv_pd)"
   ]
  },
  {
   "cell_type": "code",
   "execution_count": 102,
   "metadata": {},
   "outputs": [
    {
     "data": {
      "image/png": "[encoded data removed]",
      "text/plain": [
       "<Figure size 432x288 with 1 Axes>"
      ]
     },
     "metadata": {},
     "output_type": "display_data"
    }
   ],
   "source": [
    "import seaborn as sns\n",
    "sns.boxplot(x='model_name', y='accuracy', data=cv_pd)\n",
    "sns.stripplot(x='model_name', y='accuracy', data=cv_pd, \n",
    "              size=8, jitter=True, edgecolor=\"gray\", linewidth=2)\n",
    "plt.show()"
   ]
  },
  {
   "cell_type": "markdown",
   "metadata": {},
   "source": [
    "### Select the best model and get the Confusion matrix and Evaluation results"
   ]
  },
  {
   "cell_type": "code",
   "execution_count": 105,
   "metadata": {},
   "outputs": [
    {
     "data": {
      "text/plain": [
       "model_name\n",
       "LinearSVC                 0.717789\n",
       "LogisticRegression        0.728601\n",
       "MultinomialNB             0.589702\n",
       "RandomForestClassifier    0.283244\n",
       "Name: accuracy, dtype: float64"
      ]
     },
     "execution_count": 105,
     "metadata": {},
     "output_type": "execute_result"
    }
   ],
   "source": [
    "# find the Average accuracy for all the models\n",
    "cv_pd.groupby(\"model_name\").accuracy.mean()"
   ]
  },
  {
   "cell_type": "markdown",
   "metadata": {},
   "source": [
    "### Now select the LR model and get the confusion matrix"
   ]
  },
  {
   "cell_type": "code",
   "execution_count": 108,
   "metadata": {},
   "outputs": [
    {
     "data": {
      "image/png": "[encoded data removed]",
      "text/plain": [
       "<Figure size 720x720 with 2 Axes>"
      ]
     },
     "metadata": {},
     "output_type": "display_data"
    }
   ],
   "source": [
    "final_model = LogisticRegression()\n",
    "\n",
    "X_train, X_test, Y_train, Y_test = train_test_split(features, labels, test_size=0.33, random_state=11)    \n",
    "final_model.fit(X_train, Y_train)\n",
    "\n",
    "y_pred = final_model.predict(X_test)\n",
    "\n",
    "from sklearn.metrics import confusion_matrix\n",
    "\n",
    "conf_matr = confusion_matrix(Y_test, y_pred)\n",
    "fix, ax = plt.subplots(figsize=(10,10))\n",
    "sns.heatmap(conf_matr, annot=True, fmt='d', xticklabels=category_id_df.Product.values, \n",
    "           yticklabels=category_id_df.Product.values)\n",
    "plt.ylabel(\"Actual\")\n",
    "plt.ylabel(\"Predicted\")\n",
    "plt.show()"
   ]
  },
  {
   "cell_type": "code",
   "execution_count": 106,
   "metadata": {},
   "outputs": [],
   "source": [
    "# ?sns.heatmap"
   ]
  },
  {
   "cell_type": "markdown",
   "metadata": {},
   "source": [
    "### Get the Evaluation Metrics for the Trained Model"
   ]
  },
  {
   "cell_type": "code",
   "execution_count": 115,
   "metadata": {},
   "outputs": [
    {
     "name": "stdout",
     "output_type": "stream",
     "text": [
      "                                                                              precision    recall  f1-score   support\n",
      "\n",
      "                                                     Bank account or service       0.63      0.67      0.65      4917\n",
      "                                                 Checking or savings account       0.69      0.56      0.62      4018\n",
      "                                                               Consumer Loan       0.60      0.41      0.49      3143\n",
      "                                                                 Credit card       0.66      0.61      0.63      6234\n",
      "                                                 Credit card or prepaid card       0.65      0.63      0.64      6591\n",
      "                                                            Credit reporting       0.76      0.47      0.58     10475\n",
      "Credit reporting, credit repair services, or other personal consumer reports       0.73      0.84      0.78     28908\n",
      "                                                             Debt collection       0.78      0.89      0.83     27682\n",
      "                          Money transfer, virtual currency, or money service       0.75      0.65      0.69      1739\n",
      "                                                             Money transfers       0.72      0.20      0.31       491\n",
      "                                                                    Mortgage       0.89      0.95      0.92     17150\n",
      "                                                     Other financial service       0.00      0.00      0.00        97\n",
      "                                                                 Payday loan       0.55      0.15      0.23       577\n",
      "                                   Payday loan, title loan, or personal loan       0.60      0.27      0.37      1313\n",
      "                                                                Prepaid card       0.77      0.39      0.51       486\n",
      "                                                                Student loan       0.88      0.87      0.88      6863\n",
      "                                                       Vehicle loan or lease       0.63      0.27      0.38      1767\n",
      "                                                            Virtual currency       0.00      0.00      0.00         6\n",
      "\n",
      "                                                                 avg / total       0.75      0.76      0.75    122457\n",
      "\n"
     ]
    }
   ],
   "source": [
    "from sklearn import metrics\n",
    "\n",
    "print(metrics.classification_report(Y_test, y_pred, target_names=category_id_df.Product.values))"
   ]
  },
  {
   "cell_type": "code",
   "execution_count": null,
   "metadata": {},
   "outputs": [],
   "source": []
  },
  {
   "cell_type": "markdown",
   "metadata": {},
   "source": [
    "## Experimental Doc2Vec using Gensim"
   ]
  },
  {
   "cell_type": "code",
   "execution_count": 117,
   "metadata": {},
   "outputs": [],
   "source": [
    "from gensim.test.utils import common_texts\n",
    "from gensim.models.doc2vec import Doc2Vec, TaggedDocument\n",
    "\n",
    "documents = [TaggedDocument(doc, [i]) for i, doc in enumerate(common_texts)]\n",
    "doc2vec_model = Doc2Vec(documents, vector_size=5, window=2, min_count=1, workers=4)"
   ]
  },
  {
   "cell_type": "code",
   "execution_count": 125,
   "metadata": {},
   "outputs": [],
   "source": [
    "doc2vec_model.train(documents, doc2vec_model.corpus_count, epochs=100)"
   ]
  },
  {
   "cell_type": "code",
   "execution_count": 130,
   "metadata": {},
   "outputs": [
    {
     "name": "stdout",
     "output_type": "stream",
     "text": [
      "V1_infer [ 0.02182247 -0.08018448  0.0599794  -0.01770012  0.0417373 ]\n",
      "[(6, 0.5127213001251221), (3, 0.4198095500469208), (5, 0.33350807428359985), (7, 0.2063370645046234), (4, 0.1766483038663864), (8, -0.040153779089450836), (0, -0.20320895314216614), (2, -0.25935402512550354)]\n"
     ]
    }
   ],
   "source": [
    "from nltk.tokenize import word_tokenize\n",
    "\n",
    "test_data = word_tokenize(\"I love chatbots\".lower())\n",
    "v1 = doc2vec_model.infer_vector(test_data)\n",
    "print(\"V1_infer\", v1)\n",
    "\n",
    "# to find most similar doc using tags\n",
    "similar_doc = doc2vec_model.docvecs.most_similar(1)\n",
    "print(similar_doc)"
   ]
  },
  {
   "cell_type": "code",
   "execution_count": null,
   "metadata": {},
   "outputs": [],
   "source": []
  }
 ],
 "metadata": {
  "kernelspec": {
   "display_name": "Python 3",
   "language": "python",
   "name": "python3"
  },
  "language_info": {
   "codemirror_mode": {
    "name": "ipython",
    "version": 3
   },
   "file_extension": ".py",
   "mimetype": "text/x-python",
   "name": "python",
   "nbconvert_exporter": "python",
   "pygments_lexer": "ipython3",
   "version": "3.6.4"
  }
 },
 "nbformat": 4,
 "nbformat_minor": 2
}
