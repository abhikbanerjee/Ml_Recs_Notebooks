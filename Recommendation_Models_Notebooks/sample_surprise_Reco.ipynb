{
 "cells": [
  {
   "cell_type": "markdown",
   "metadata": {},
   "source": [
    "## Sample Surprise Usage - Recommendation Model"
   ]
  },
  {
   "cell_type": "code",
   "execution_count": 1,
   "metadata": {},
   "outputs": [],
   "source": [
    "import numpy as np\n",
    "import pandas as pd"
   ]
  },
  {
   "cell_type": "code",
   "execution_count": 2,
   "metadata": {},
   "outputs": [
    {
     "data": {
      "text/html": [
       "<div>\n",
       "<style scoped>\n",
       "    .dataframe tbody tr th:only-of-type {\n",
       "        vertical-align: middle;\n",
       "    }\n",
       "\n",
       "    .dataframe tbody tr th {\n",
       "        vertical-align: top;\n",
       "    }\n",
       "\n",
       "    .dataframe thead th {\n",
       "        text-align: right;\n",
       "    }\n",
       "</style>\n",
       "<table border=\"1\" class=\"dataframe\">\n",
       "  <thead>\n",
       "    <tr style=\"text-align: right;\">\n",
       "      <th></th>\n",
       "      <th>user_id</th>\n",
       "      <th>item_id</th>\n",
       "      <th>rating</th>\n",
       "      <th>timestamp</th>\n",
       "    </tr>\n",
       "  </thead>\n",
       "  <tbody>\n",
       "    <tr>\n",
       "      <th>0</th>\n",
       "      <td>196</td>\n",
       "      <td>242</td>\n",
       "      <td>3</td>\n",
       "      <td>881250949</td>\n",
       "    </tr>\n",
       "    <tr>\n",
       "      <th>1</th>\n",
       "      <td>186</td>\n",
       "      <td>302</td>\n",
       "      <td>3</td>\n",
       "      <td>891717742</td>\n",
       "    </tr>\n",
       "    <tr>\n",
       "      <th>2</th>\n",
       "      <td>22</td>\n",
       "      <td>377</td>\n",
       "      <td>1</td>\n",
       "      <td>878887116</td>\n",
       "    </tr>\n",
       "    <tr>\n",
       "      <th>3</th>\n",
       "      <td>244</td>\n",
       "      <td>51</td>\n",
       "      <td>2</td>\n",
       "      <td>880606923</td>\n",
       "    </tr>\n",
       "    <tr>\n",
       "      <th>4</th>\n",
       "      <td>166</td>\n",
       "      <td>346</td>\n",
       "      <td>1</td>\n",
       "      <td>886397596</td>\n",
       "    </tr>\n",
       "  </tbody>\n",
       "</table>\n",
       "</div>"
      ],
      "text/plain": [
       "   user_id  item_id  rating  timestamp\n",
       "0      196      242       3  881250949\n",
       "1      186      302       3  891717742\n",
       "2       22      377       1  878887116\n",
       "3      244       51       2  880606923\n",
       "4      166      346       1  886397596"
      ]
     },
     "execution_count": 2,
     "metadata": {},
     "output_type": "execute_result"
    }
   ],
   "source": [
    "names = ['user_id', 'item_id', 'rating', 'timestamp']\n",
    "ratings_df = pd.read_csv('./ml-100k/u.data', sep='\\t', names=names)\n",
    "ratings_df.head()"
   ]
  },
  {
   "cell_type": "code",
   "execution_count": 3,
   "metadata": {},
   "outputs": [
    {
     "name": "stdout",
     "output_type": "stream",
     "text": [
      "            user_id        item_id         rating     timestamp\n",
      "count  100000.00000  100000.000000  100000.000000  1.000000e+05\n",
      "mean      462.48475     425.530130       3.529860  8.835289e+08\n",
      "std       266.61442     330.798356       1.125674  5.343856e+06\n",
      "min         1.00000       1.000000       1.000000  8.747247e+08\n",
      "25%       254.00000     175.000000       3.000000  8.794487e+08\n",
      "50%       447.00000     322.000000       4.000000  8.828269e+08\n",
      "75%       682.00000     631.000000       4.000000  8.882600e+08\n",
      "max       943.00000    1682.000000       5.000000  8.932866e+08\n",
      "\n",
      "943 number of unique users\n",
      "1682 number of unique items\n"
     ]
    }
   ],
   "source": [
    "print(ratings_df.describe())\n",
    "print(\"\")\n",
    "nusers = ratings_df[\"user_id\"].nunique()\n",
    "nproducts = ratings_df[\"item_id\"].nunique()\n",
    "print(str(nusers)+ \" number of unique users\")\n",
    "print(str(nproducts)+\" number of unique items\")"
   ]
  },
  {
   "cell_type": "code",
   "execution_count": 4,
   "metadata": {},
   "outputs": [],
   "source": [
    "ratings = np.zeros((nusers , nproducts))"
   ]
  },
  {
   "cell_type": "code",
   "execution_count": 5,
   "metadata": {},
   "outputs": [
    {
     "data": {
      "text/plain": [
       "array([[5., 3., 4., ..., 0., 0., 0.],\n",
       "       [4., 0., 0., ..., 0., 0., 0.],\n",
       "       [0., 0., 0., ..., 0., 0., 0.],\n",
       "       ...,\n",
       "       [5., 0., 0., ..., 0., 0., 0.],\n",
       "       [0., 0., 0., ..., 0., 0., 0.],\n",
       "       [0., 5., 0., ..., 0., 0., 0.]])"
      ]
     },
     "execution_count": 5,
     "metadata": {},
     "output_type": "execute_result"
    }
   ],
   "source": [
    "\n",
    "# create a nusers X nitems matrix and fill in the ratings values\n",
    "for row in ratings_df.itertuples():    \n",
    "    ratings[row[1]-1, row[2]-1] = row[3]\n",
    "ratings"
   ]
  },
  {
   "cell_type": "code",
   "execution_count": 6,
   "metadata": {},
   "outputs": [],
   "source": [
    "def train_test_split(ratings):\n",
    "    test = np.zeros(ratings.shape)\n",
    "    train = ratings.copy()\n",
    "    for user in range(ratings.shape[0]):\n",
    "        test_ratings = np.random.choice(ratings[user, :].nonzero()[0], \n",
    "                                        size=10, \n",
    "                                        replace=False)\n",
    "#         print(test_ratings)\n",
    "        train[user, test_ratings] = 0.\n",
    "        test[user, test_ratings] = ratings[user, test_ratings]\n",
    "        \n",
    "    # Test and training are truly disjoint\n",
    "    assert(np.all((train * test) == 0)) \n",
    "    return train, test"
   ]
  },
  {
   "cell_type": "code",
   "execution_count": 7,
   "metadata": {},
   "outputs": [
    {
     "name": "stdout",
     "output_type": "stream",
     "text": [
      "(943, 1682)\n",
      "(943, 1682)\n"
     ]
    }
   ],
   "source": [
    "train, test = train_test_split(ratings)\n",
    "print(train.shape)\n",
    "print(test.shape)"
   ]
  },
  {
   "cell_type": "code",
   "execution_count": 11,
   "metadata": {},
   "outputs": [],
   "source": [
    "import sklearn.metrics.pairwise\n",
    "\n",
    "sim = sklearn.metrics.pairwise.cosine_similarity(train)"
   ]
  },
  {
   "cell_type": "code",
   "execution_count": 29,
   "metadata": {},
   "outputs": [
    {
     "data": {
      "text/plain": [
       "(943, 943)"
      ]
     },
     "execution_count": 29,
     "metadata": {},
     "output_type": "execute_result"
    }
   ],
   "source": [
    "sim.shape"
   ]
  },
  {
   "cell_type": "code",
   "execution_count": 19,
   "metadata": {},
   "outputs": [
    {
     "data": {
      "text/plain": [
       "(943, 1682)"
      ]
     },
     "execution_count": 19,
     "metadata": {},
     "output_type": "execute_result"
    }
   ],
   "source": [
    "sim.dot(ratings).shape"
   ]
  },
  {
   "cell_type": "code",
   "execution_count": 30,
   "metadata": {},
   "outputs": [
    {
     "data": {
      "text/plain": [
       "(943, 40)"
      ]
     },
     "execution_count": 30,
     "metadata": {},
     "output_type": "execute_result"
    }
   ],
   "source": [
    "# find top k users\n",
    "k = 40\n",
    "topk_users = np.argsort(sim)[::-1][:,:k]\n",
    "topk_users.shape"
   ]
  },
  {
   "cell_type": "code",
   "execution_count": 34,
   "metadata": {},
   "outputs": [
    {
     "data": {
      "text/plain": [
       "(943, 40)"
      ]
     },
     "execution_count": 34,
     "metadata": {},
     "output_type": "execute_result"
    }
   ],
   "source": [
    "sim[1,:][topk_users].shape"
   ]
  },
  {
   "cell_type": "code",
   "execution_count": 41,
   "metadata": {},
   "outputs": [
    {
     "name": "stdout",
     "output_type": "stream",
     "text": [
      "[[0.04246507 0.04857668 0.03659149 ... 0.04281694 0.05590607 0.06953194]\n",
      " [0.0112352  0.16323997 0.04710228 ... 0.08591283 0.07015717 0.0483224 ]\n",
      " [0.02958247 0.04109062 0.04934126 ... 0.20348051 0.03136474 0.06485375]\n",
      " ...\n",
      " [0.08756336 0.19213031 0.17929848 ... 0.36943377 0.16917381 0.21963097]\n",
      " [0.1168792  0.15026322 0.09648089 ... 0.10065468 0.14273825 0.1498689 ]\n",
      " [0.         0.         0.         ... 0.02112611 0.02317461 0.02340399]]\n"
     ]
    }
   ],
   "source": [
    "pred = np.zeros(ratings.shape)\n",
    "\n",
    "for i in range(1):\n",
    "    top_k_users = np.argsort(sim)[::-1][:,:k]\n",
    "    for j in range(1):\n",
    "        print(sim[i, :][top_k_users])\n",
    "#         pred[i, j] = sim[i, :][top_k_users].dot(ratings[:, j][top_k_users]) \n",
    "#         pred[i, j] /= np.sum(np.abs(sim[i, :][top_k_users]))"
   ]
  },
  {
   "cell_type": "code",
   "execution_count": 43,
   "metadata": {},
   "outputs": [],
   "source": [
    "top_k_users = np.argsort(sim)[::-1][:,:k]"
   ]
  },
  {
   "cell_type": "code",
   "execution_count": 44,
   "metadata": {},
   "outputs": [
    {
     "data": {
      "text/plain": [
       "(943, 40)"
      ]
     },
     "execution_count": 44,
     "metadata": {},
     "output_type": "execute_result"
    }
   ],
   "source": [
    "top_k_users.shape"
   ]
  },
  {
   "cell_type": "code",
   "execution_count": 56,
   "metadata": {},
   "outputs": [
    {
     "data": {
      "text/plain": [
       "(1, 943, 40)"
      ]
     },
     "execution_count": 56,
     "metadata": {},
     "output_type": "execute_result"
    }
   ],
   "source": [
    "ratings[1, [top_k_users]].shape"
   ]
  },
  {
   "cell_type": "code",
   "execution_count": 14,
   "metadata": {},
   "outputs": [],
   "source": [
    "def cosine_similarity(ratings, kind='user', epsilon=1e-9):\n",
    "    # epsilon -> small number for handling dived-by-zero errors\n",
    "    if kind == 'user':\n",
    "        sim = ratings.dot(ratings.T) + epsilon\n",
    "    elif kind == 'item':\n",
    "        sim = ratings.T.dot(ratings) + epsilon\n",
    "    norms = np.array([np.sqrt(np.diagonal(sim))])\n",
    "    return (sim / norms / norms.T)"
   ]
  },
  {
   "cell_type": "code",
   "execution_count": 15,
   "metadata": {},
   "outputs": [
    {
     "name": "stdout",
     "output_type": "stream",
     "text": [
      "[[1.         0.41099516 0.32290243 0.45816468]\n",
      " [0.41099516 1.         0.26223334 0.49585896]\n",
      " [0.32290243 0.26223334 1.         0.2949136 ]\n",
      " [0.45816468 0.49585896 0.2949136  1.        ]]\n"
     ]
    }
   ],
   "source": [
    "\n",
    "user_cosine_similarity = cosine_similarity(train, kind='user')\n",
    "item_cosine_similarity = cosine_similarity(train, kind='item')\n",
    "print(item_cosine_similarity[:4, :4])"
   ]
  },
  {
   "cell_type": "code",
   "execution_count": 16,
   "metadata": {},
   "outputs": [
    {
     "data": {
      "text/plain": [
       "array([[1.        , 0.15861357, 0.03762763, ..., 0.15518078, 0.17000039,\n",
       "        0.37819237],\n",
       "       [0.15861357, 1.        , 0.08459062, ..., 0.06878963, 0.13714026,\n",
       "        0.11044833],\n",
       "       [0.03762763, 0.08459062, 1.        , ..., 0.02938477, 0.10251852,\n",
       "        0.01425584],\n",
       "       ...,\n",
       "       [0.15518078, 0.06878963, 0.02938477, ..., 1.        , 0.11296811,\n",
       "        0.08159914],\n",
       "       [0.17000039, 0.13714026, 0.10251852, ..., 0.11296811, 1.        ,\n",
       "        0.1735517 ],\n",
       "       [0.37819237, 0.11044833, 0.01425584, ..., 0.08159914, 0.1735517 ,\n",
       "        1.        ]])"
      ]
     },
     "execution_count": 16,
     "metadata": {},
     "output_type": "execute_result"
    }
   ],
   "source": [
    "user_cosine_similarity"
   ]
  },
  {
   "cell_type": "code",
   "execution_count": null,
   "metadata": {},
   "outputs": [],
   "source": []
  },
  {
   "cell_type": "markdown",
   "metadata": {},
   "source": [
    "### Surprise package usage for recommendations"
   ]
  },
  {
   "cell_type": "code",
   "execution_count": 1,
   "metadata": {},
   "outputs": [],
   "source": [
    "from surprise import SVD, SVDpp, NMF\n",
    "from surprise import Dataset\n",
    "from surprise.model_selection import cross_validate"
   ]
  },
  {
   "cell_type": "code",
   "execution_count": 2,
   "metadata": {},
   "outputs": [
    {
     "name": "stdout",
     "output_type": "stream",
     "text": [
      "Evaluating RMSE, MAE of algorithm SVD on 5 split(s).\n",
      "\n",
      "                  Fold 1  Fold 2  Fold 3  Fold 4  Fold 5  Mean    Std     \n",
      "RMSE (testset)    0.9489  0.9457  0.9283  0.9296  0.9336  0.9372  0.0085  \n",
      "MAE (testset)     0.7484  0.7428  0.7329  0.7320  0.7372  0.7387  0.0062  \n",
      "Fit time          4.35    4.47    4.37    4.50    4.34    4.41    0.06    \n",
      "Test time         0.17    0.11    0.15    0.16    0.16    0.15    0.02    \n"
     ]
    },
    {
     "data": {
      "text/plain": [
       "{'fit_time': (4.348273038864136,\n",
       "  4.46734619140625,\n",
       "  4.374805927276611,\n",
       "  4.495290040969849,\n",
       "  4.3423378467559814),\n",
       " 'test_mae': array([0.74842831, 0.74284802, 0.7328509 , 0.73198626, 0.73716462]),\n",
       " 'test_rmse': array([0.94885058, 0.94573355, 0.92832324, 0.92963279, 0.93355875]),\n",
       " 'test_time': (0.16629767417907715,\n",
       "  0.11486601829528809,\n",
       "  0.1534280776977539,\n",
       "  0.15606284141540527,\n",
       "  0.15705299377441406)}"
      ]
     },
     "execution_count": 2,
     "metadata": {},
     "output_type": "execute_result"
    }
   ],
   "source": [
    "data = Dataset.load_builtin('ml-100k')\n",
    "\n",
    "algo = SVD()\n",
    "\n",
    "cross_validate(algo, data, measures=['RMSE', 'MAE'], cv=5, verbose=True)"
   ]
  },
  {
   "cell_type": "code",
   "execution_count": null,
   "metadata": {},
   "outputs": [],
   "source": [
    "from surprise.model_selection import train_test_split\n",
    "\n",
    "trainset, testset = train_test_split(data, test_size=.25)"
   ]
  },
  {
   "cell_type": "code",
   "execution_count": 3,
   "metadata": {},
   "outputs": [
    {
     "name": "stdout",
     "output_type": "stream",
     "text": [
      "Evaluating RMSE, MAE of algorithm SVDpp on 5 split(s).\n",
      "\n",
      "                  Fold 1  Fold 2  Fold 3  Fold 4  Fold 5  Mean    Std     \n",
      "RMSE (testset)    0.9205  0.9105  0.9267  0.9195  0.9149  0.9184  0.0055  \n",
      "MAE (testset)     0.7202  0.7131  0.7262  0.7204  0.7186  0.7197  0.0042  \n",
      "Fit time          160.64  159.11  160.18  159.91  160.55  160.08  0.55    \n",
      "Test time         2.86    2.86    3.48    3.14    2.95    3.06    0.23    \n"
     ]
    },
    {
     "data": {
      "text/plain": [
       "{'fit_time': (160.6398410797119,\n",
       "  159.11276173591614,\n",
       "  160.17634797096252,\n",
       "  159.91279578208923,\n",
       "  160.5505018234253),\n",
       " 'test_mae': array([0.72022661, 0.71306479, 0.72619606, 0.72041391, 0.71855737]),\n",
       " 'test_rmse': array([0.92051117, 0.9105373 , 0.9267286 , 0.91950087, 0.91485181]),\n",
       " 'test_time': (2.8552191257476807,\n",
       "  2.8628718852996826,\n",
       "  3.478797197341919,\n",
       "  3.141758918762207,\n",
       "  2.947489023208618)}"
      ]
     },
     "execution_count": 3,
     "metadata": {},
     "output_type": "execute_result"
    }
   ],
   "source": [
    "algo = SVDpp()\n",
    "\n",
    "cross_validate(algo, data, measures=['RMSE', 'MAE'], cv=5, verbose=True)"
   ]
  },
  {
   "cell_type": "code",
   "execution_count": 4,
   "metadata": {},
   "outputs": [
    {
     "name": "stdout",
     "output_type": "stream",
     "text": [
      "Evaluating RMSE, MAE of algorithm NMF on 5 split(s).\n",
      "\n",
      "                  Fold 1  Fold 2  Fold 3  Fold 4  Fold 5  Mean    Std     \n",
      "RMSE (testset)    0.9715  0.9677  0.9632  0.9596  0.9578  0.9640  0.0051  \n",
      "MAE (testset)     0.7638  0.7620  0.7558  0.7558  0.7525  0.7580  0.0042  \n",
      "Fit time          5.02    4.54    4.67    4.71    4.75    4.74    0.16    \n",
      "Test time         0.13    0.14    0.14    0.14    0.14    0.14    0.00    \n"
     ]
    },
    {
     "data": {
      "text/plain": [
       "{'fit_time': (5.024583101272583,\n",
       "  4.540709018707275,\n",
       "  4.670447826385498,\n",
       "  4.714916706085205,\n",
       "  4.754637718200684),\n",
       " 'test_mae': array([0.76379854, 0.76195173, 0.75575786, 0.75582593, 0.75249666]),\n",
       " 'test_rmse': array([0.97149799, 0.96767898, 0.96319345, 0.95962072, 0.95777352]),\n",
       " 'test_time': (0.13350415229797363,\n",
       "  0.14029693603515625,\n",
       "  0.13926291465759277,\n",
       "  0.13964605331420898,\n",
       "  0.14038395881652832)}"
      ]
     },
     "execution_count": 4,
     "metadata": {},
     "output_type": "execute_result"
    }
   ],
   "source": [
    "algo = NMF()\n",
    "\n",
    "cross_validate(algo, data, measures=['RMSE', 'MAE'], cv=5, verbose=True)"
   ]
  },
  {
   "cell_type": "code",
   "execution_count": null,
   "metadata": {},
   "outputs": [],
   "source": []
  },
  {
   "cell_type": "code",
   "execution_count": null,
   "metadata": {},
   "outputs": [],
   "source": []
  },
  {
   "cell_type": "code",
   "execution_count": null,
   "metadata": {},
   "outputs": [],
   "source": []
  },
  {
   "cell_type": "code",
   "execution_count": null,
   "metadata": {},
   "outputs": [],
   "source": []
  },
  {
   "cell_type": "code",
   "execution_count": null,
   "metadata": {},
   "outputs": [],
   "source": []
  },
  {
   "cell_type": "code",
   "execution_count": null,
   "metadata": {},
   "outputs": [],
   "source": []
  },
  {
   "cell_type": "code",
   "execution_count": null,
   "metadata": {},
   "outputs": [],
   "source": []
  },
  {
   "cell_type": "code",
   "execution_count": null,
   "metadata": {},
   "outputs": [],
   "source": []
  },
  {
   "cell_type": "code",
   "execution_count": null,
   "metadata": {},
   "outputs": [],
   "source": []
  },
  {
   "cell_type": "code",
   "execution_count": null,
   "metadata": {},
   "outputs": [],
   "source": []
  },
  {
   "cell_type": "code",
   "execution_count": null,
   "metadata": {},
   "outputs": [],
   "source": []
  },
  {
   "cell_type": "code",
   "execution_count": null,
   "metadata": {},
   "outputs": [],
   "source": []
  },
  {
   "cell_type": "code",
   "execution_count": null,
   "metadata": {},
   "outputs": [],
   "source": []
  },
  {
   "cell_type": "code",
   "execution_count": null,
   "metadata": {},
   "outputs": [],
   "source": []
  }
 ],
 "metadata": {
  "kernelspec": {
   "display_name": "Python 3",
   "language": "python",
   "name": "python3"
  },
  "language_info": {
   "codemirror_mode": {
    "name": "ipython",
    "version": 3
   },
   "file_extension": ".py",
   "mimetype": "text/x-python",
   "name": "python",
   "nbconvert_exporter": "python",
   "pygments_lexer": "ipython3",
   "version": "3.6.4"
  }
 },
 "nbformat": 4,
 "nbformat_minor": 2
}
