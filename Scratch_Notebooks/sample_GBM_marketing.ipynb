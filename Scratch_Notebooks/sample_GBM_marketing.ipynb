{
 "cells": [
  {
   "cell_type": "markdown",
   "metadata": {},
   "source": [
    "## To test the sample GBM on the data Adam sent"
   ]
  },
  {
   "cell_type": "code",
   "execution_count": 1,
   "metadata": {},
   "outputs": [],
   "source": [
    "import pandas as pd\n",
    "df_train = pd.read_csv(\"/Users/abhikbanerjee/auto-ml/marketing_flattened_train.tsv\", delimiter=\"\\t\")"
   ]
  },
  {
   "cell_type": "code",
   "execution_count": 2,
   "metadata": {},
   "outputs": [
    {
     "data": {
      "text/html": [
       "<div>\n",
       "<style scoped>\n",
       "    .dataframe tbody tr th:only-of-type {\n",
       "        vertical-align: middle;\n",
       "    }\n",
       "\n",
       "    .dataframe tbody tr th {\n",
       "        vertical-align: top;\n",
       "    }\n",
       "\n",
       "    .dataframe thead th {\n",
       "        text-align: right;\n",
       "    }\n",
       "</style>\n",
       "<table border=\"1\" class=\"dataframe\">\n",
       "  <thead>\n",
       "    <tr style=\"text-align: right;\">\n",
       "      <th></th>\n",
       "      <th>id</th>\n",
       "      <th>emailHash</th>\n",
       "      <th>emailPermission</th>\n",
       "      <th>emailDeliverability</th>\n",
       "      <th>emailDomain</th>\n",
       "      <th>emailProvider</th>\n",
       "      <th>mobilePermission</th>\n",
       "      <th>mobileDeliverability</th>\n",
       "      <th>addressCity</th>\n",
       "      <th>addressState</th>\n",
       "      <th>...</th>\n",
       "      <th>consumerModifiedDate</th>\n",
       "      <th>accountId</th>\n",
       "      <th>launchDescription</th>\n",
       "      <th>launchStatus</th>\n",
       "      <th>launchType</th>\n",
       "      <th>channelType</th>\n",
       "      <th>eventType</th>\n",
       "      <th>eventTimestamp</th>\n",
       "      <th>eventHour</th>\n",
       "      <th>eventOccurred</th>\n",
       "    </tr>\n",
       "  </thead>\n",
       "  <tbody>\n",
       "    <tr>\n",
       "      <th>0</th>\n",
       "      <td>9653~48726162</td>\n",
       "      <td>6dbd20c13c96f9300839114af269606de590284c82127...</td>\n",
       "      <td>1</td>\n",
       "      <td>1</td>\n",
       "      <td>hotmail.com</td>\n",
       "      <td>Hotmail</td>\n",
       "      <td>1</td>\n",
       "      <td>1</td>\n",
       "      <td></td>\n",
       "      <td></td>\n",
       "      <td>...</td>\n",
       "      <td>1521623304</td>\n",
       "      <td>9653</td>\n",
       "      <td></td>\n",
       "      <td>B</td>\n",
       "      <td>S</td>\n",
       "      <td>E</td>\n",
       "      <td>4</td>\n",
       "      <td>1521633304</td>\n",
       "      <td>11</td>\n",
       "      <td>0</td>\n",
       "    </tr>\n",
       "    <tr>\n",
       "      <th>1</th>\n",
       "      <td>9653~24500862</td>\n",
       "      <td>29874bc4fa76ce2020e06e80354672a9518d7297b74eb...</td>\n",
       "      <td>1</td>\n",
       "      <td>1</td>\n",
       "      <td>hotmail.com</td>\n",
       "      <td>Hotmail</td>\n",
       "      <td>0</td>\n",
       "      <td>1</td>\n",
       "      <td></td>\n",
       "      <td></td>\n",
       "      <td>...</td>\n",
       "      <td>1521623304</td>\n",
       "      <td>9653</td>\n",
       "      <td>AUS - Join Day to Accept</td>\n",
       "      <td>L</td>\n",
       "      <td>S</td>\n",
       "      <td>E</td>\n",
       "      <td>4</td>\n",
       "      <td>1521633994</td>\n",
       "      <td>12</td>\n",
       "      <td>0</td>\n",
       "    </tr>\n",
       "    <tr>\n",
       "      <th>2</th>\n",
       "      <td>9653~65135442</td>\n",
       "      <td>21a7d1565ca45f5d569e1308a5dbefd1aedd911f47801...</td>\n",
       "      <td>1</td>\n",
       "      <td>1</td>\n",
       "      <td>gmail.com</td>\n",
       "      <td>Gmail</td>\n",
       "      <td>1</td>\n",
       "      <td>1</td>\n",
       "      <td></td>\n",
       "      <td></td>\n",
       "      <td>...</td>\n",
       "      <td>1521623304</td>\n",
       "      <td>9653</td>\n",
       "      <td>AUS - Join Day to Accept</td>\n",
       "      <td>L</td>\n",
       "      <td>S</td>\n",
       "      <td>E</td>\n",
       "      <td>4</td>\n",
       "      <td>1521634684</td>\n",
       "      <td>12</td>\n",
       "      <td>0</td>\n",
       "    </tr>\n",
       "    <tr>\n",
       "      <th>3</th>\n",
       "      <td>9653~65135442</td>\n",
       "      <td>21a7d1565ca45f5d569e1308a5dbefd1aedd911f47801...</td>\n",
       "      <td>1</td>\n",
       "      <td>1</td>\n",
       "      <td>gmail.com</td>\n",
       "      <td>Gmail</td>\n",
       "      <td>1</td>\n",
       "      <td>1</td>\n",
       "      <td></td>\n",
       "      <td></td>\n",
       "      <td>...</td>\n",
       "      <td>1521623304</td>\n",
       "      <td>9653</td>\n",
       "      <td>AUS - Join Day to Accept</td>\n",
       "      <td>B</td>\n",
       "      <td>S</td>\n",
       "      <td>E</td>\n",
       "      <td>4</td>\n",
       "      <td>1521635374</td>\n",
       "      <td>12</td>\n",
       "      <td>0</td>\n",
       "    </tr>\n",
       "    <tr>\n",
       "      <th>4</th>\n",
       "      <td>9653~46994842</td>\n",
       "      <td>bb7eeaff6cdbff352a34fea698a53db44d30278871f8e...</td>\n",
       "      <td>1</td>\n",
       "      <td>1</td>\n",
       "      <td>hotmail.com</td>\n",
       "      <td>Hotmail</td>\n",
       "      <td>1</td>\n",
       "      <td>1</td>\n",
       "      <td></td>\n",
       "      <td></td>\n",
       "      <td>...</td>\n",
       "      <td>1521623304</td>\n",
       "      <td>9653</td>\n",
       "      <td>AUS - Join Day to Accept</td>\n",
       "      <td>L</td>\n",
       "      <td>S</td>\n",
       "      <td>E</td>\n",
       "      <td>4</td>\n",
       "      <td>1521636064</td>\n",
       "      <td>12</td>\n",
       "      <td>0</td>\n",
       "    </tr>\n",
       "  </tbody>\n",
       "</table>\n",
       "<p>5 rows × 23 columns</p>\n",
       "</div>"
      ],
      "text/plain": [
       "              id                                          emailHash  \\\n",
       "0  9653~48726162   6dbd20c13c96f9300839114af269606de590284c82127...   \n",
       "1  9653~24500862   29874bc4fa76ce2020e06e80354672a9518d7297b74eb...   \n",
       "2  9653~65135442   21a7d1565ca45f5d569e1308a5dbefd1aedd911f47801...   \n",
       "3  9653~65135442   21a7d1565ca45f5d569e1308a5dbefd1aedd911f47801...   \n",
       "4  9653~46994842   bb7eeaff6cdbff352a34fea698a53db44d30278871f8e...   \n",
       "\n",
       "   emailPermission  emailDeliverability   emailDomain emailProvider  \\\n",
       "0                1                    1   hotmail.com       Hotmail   \n",
       "1                1                    1   hotmail.com       Hotmail   \n",
       "2                1                    1     gmail.com         Gmail   \n",
       "3                1                    1     gmail.com         Gmail   \n",
       "4                1                    1   hotmail.com       Hotmail   \n",
       "\n",
       "   mobilePermission  mobileDeliverability addressCity addressState  \\\n",
       "0                 1                     1                            \n",
       "1                 0                     1                            \n",
       "2                 1                     1                            \n",
       "3                 1                     1                            \n",
       "4                 1                     1                            \n",
       "\n",
       "       ...       consumerModifiedDate accountId          launchDescription  \\\n",
       "0      ...                 1521623304      9653                              \n",
       "1      ...                 1521623304      9653   AUS - Join Day to Accept   \n",
       "2      ...                 1521623304      9653   AUS - Join Day to Accept   \n",
       "3      ...                 1521623304      9653   AUS - Join Day to Accept   \n",
       "4      ...                 1521623304      9653   AUS - Join Day to Accept   \n",
       "\n",
       "   launchStatus  launchType channelType eventType eventTimestamp eventHour  \\\n",
       "0             B           S           E         4     1521633304        11   \n",
       "1             L           S           E         4     1521633994        12   \n",
       "2             L           S           E         4     1521634684        12   \n",
       "3             B           S           E         4     1521635374        12   \n",
       "4             L           S           E         4     1521636064        12   \n",
       "\n",
       "   eventOccurred  \n",
       "0              0  \n",
       "1              0  \n",
       "2              0  \n",
       "3              0  \n",
       "4              0  \n",
       "\n",
       "[5 rows x 23 columns]"
      ]
     },
     "execution_count": 2,
     "metadata": {},
     "output_type": "execute_result"
    }
   ],
   "source": [
    "df_train.head()"
   ]
  },
  {
   "cell_type": "code",
   "execution_count": 3,
   "metadata": {},
   "outputs": [
    {
     "data": {
      "text/plain": [
       "id                      object\n",
       "emailHash               object\n",
       "emailPermission          int64\n",
       "emailDeliverability      int64\n",
       "emailDomain             object\n",
       "emailProvider           object\n",
       "mobilePermission         int64\n",
       "mobileDeliverability     int64\n",
       "addressCity             object\n",
       "addressState            object\n",
       "addressZip              object\n",
       "addressCountry          object\n",
       "consumerCreatedDate      int64\n",
       "consumerModifiedDate     int64\n",
       "accountId                int64\n",
       "launchDescription       object\n",
       "launchStatus            object\n",
       "launchType              object\n",
       "channelType             object\n",
       "eventType                int64\n",
       "eventTimestamp           int64\n",
       "eventHour                int64\n",
       "eventOccurred            int64\n",
       "dtype: object"
      ]
     },
     "execution_count": 3,
     "metadata": {},
     "output_type": "execute_result"
    }
   ],
   "source": [
    "df_train.dtypes"
   ]
  },
  {
   "cell_type": "code",
   "execution_count": 4,
   "metadata": {},
   "outputs": [
    {
     "data": {
      "text/plain": [
       "array([0, 1])"
      ]
     },
     "execution_count": 4,
     "metadata": {},
     "output_type": "execute_result"
    }
   ],
   "source": [
    "# eventOccurred is the column to predict - binary\n",
    "df_train.eventOccurred.unique()"
   ]
  },
  {
   "cell_type": "code",
   "execution_count": 5,
   "metadata": {},
   "outputs": [],
   "source": [
    "y = df_train[\"eventOccurred\"]\n",
    "X = df_train.drop(['eventOccurred'], axis=1)"
   ]
  },
  {
   "cell_type": "code",
   "execution_count": 6,
   "metadata": {},
   "outputs": [],
   "source": [
    "from sklearn.ensemble import GradientBoostingClassifier\n",
    "from category_encoders import HashingEncoder\n",
    "\n",
    "hash_enc = HashingEncoder(return_df=True)\n",
    "\n",
    "df_new = hash_enc.fit_transform(X,y)"
   ]
  },
  {
   "cell_type": "code",
   "execution_count": 7,
   "metadata": {},
   "outputs": [
    {
     "data": {
      "text/plain": [
       "GradientBoostingClassifier(criterion='friedman_mse', init=None,\n",
       "              learning_rate=0.1, loss='deviance', max_depth=3,\n",
       "              max_features=None, max_leaf_nodes=None,\n",
       "              min_impurity_decrease=0.0, min_impurity_split=None,\n",
       "              min_samples_leaf=1, min_samples_split=2,\n",
       "              min_weight_fraction_leaf=0.0, n_estimators=100,\n",
       "              presort='auto', random_state=None, subsample=1.0, verbose=0,\n",
       "              warm_start=False)"
      ]
     },
     "execution_count": 7,
     "metadata": {},
     "output_type": "execute_result"
    }
   ],
   "source": [
    "gbm = GradientBoostingClassifier()\n",
    "gbm.fit(df_new,y)"
   ]
  },
  {
   "cell_type": "code",
   "execution_count": null,
   "metadata": {},
   "outputs": [],
   "source": []
  }
 ],
 "metadata": {
  "kernelspec": {
   "display_name": "Python 3",
   "language": "python",
   "name": "python3"
  },
  "language_info": {
   "codemirror_mode": {
    "name": "ipython",
    "version": 3
   },
   "file_extension": ".py",
   "mimetype": "text/x-python",
   "name": "python",
   "nbconvert_exporter": "python",
   "pygments_lexer": "ipython3",
   "version": "3.6.4"
  }
 },
 "nbformat": 4,
 "nbformat_minor": 2
}
