{
 "cells": [
  {
   "cell_type": "code",
   "execution_count": 2,
   "metadata": {},
   "outputs": [
    {
     "data": {
      "text/html": [
       "<div>\n",
       "<style>\n",
       "    .dataframe thead tr:only-child th {\n",
       "        text-align: right;\n",
       "    }\n",
       "\n",
       "    .dataframe thead th {\n",
       "        text-align: left;\n",
       "    }\n",
       "\n",
       "    .dataframe tbody tr th {\n",
       "        vertical-align: top;\n",
       "    }\n",
       "</style>\n",
       "<table border=\"1\" class=\"dataframe\">\n",
       "  <thead>\n",
       "    <tr style=\"text-align: right;\">\n",
       "      <th></th>\n",
       "      <th>REGION_NAME_OLD</th>\n",
       "      <th>population</th>\n",
       "    </tr>\n",
       "  </thead>\n",
       "  <tbody>\n",
       "    <tr>\n",
       "      <th>0</th>\n",
       "      <td>CALIFORNIA REGION</td>\n",
       "      <td>23456</td>\n",
       "    </tr>\n",
       "    <tr>\n",
       "      <th>1</th>\n",
       "      <td>PORTLAND REGION</td>\n",
       "      <td>67565</td>\n",
       "    </tr>\n",
       "    <tr>\n",
       "      <th>2</th>\n",
       "      <td>CHICAGO REGION</td>\n",
       "      <td>78789</td>\n",
       "    </tr>\n",
       "  </tbody>\n",
       "</table>\n",
       "</div>"
      ],
      "text/plain": [
       "     REGION_NAME_OLD  population\n",
       "0  CALIFORNIA REGION       23456\n",
       "1    PORTLAND REGION       67565\n",
       "2     CHICAGO REGION       78789"
      ]
     },
     "execution_count": 2,
     "metadata": {},
     "output_type": "execute_result"
    }
   ],
   "source": [
    "import pandas as pd\n",
    "d = {\"REGION_NAME_OLD\": [\"CALIFORNIA REGION\", \"PORTLAND REGION\", \"CHICAGO REGION\"],\n",
    "    \"population\": [23456, 67565, 78789]}\n",
    "\n",
    "df = pd.DataFrame(data=d)\n",
    "df.head()"
   ]
  },
  {
   "cell_type": "code",
   "execution_count": 15,
   "metadata": {},
   "outputs": [
    {
     "data": {
      "text/plain": [
       "0   -0.27005\n",
       "1   -0.58842\n",
       "2    0.25411\n",
       "Name: REGION_NAME_OLD, dtype: float64"
      ]
     },
     "execution_count": 15,
     "metadata": {},
     "output_type": "execute_result"
    }
   ],
   "source": [
    "EBIN1405006_V08 = {\n",
    "  \"GREATER BOSTON REGION\": -0.65033,\n",
    "  \"SEATTLE REGION\": -0.64606,\n",
    "  \"PORTLAND REGION\": -0.58842,\n",
    "  \"TWIN CITIES REGION\": -0.42426,\n",
    "  \"KEYSTONE REGION\": -0.39314,\n",
    "  \"MOUNTAIN REGION\": -0.38053,\n",
    "  \"CALIFORNIA REGION\": -0.27005,\n",
    "  \"WESTERN NEW ENGLAND REGION\": -0.26923,\n",
    "  \"FREEDOM REGION\": -0.22015,\n",
    "  \"BELTWAY REGION\": -0.17065,\n",
    "  \"MILE HIGH REGION\": -0.16072,\n",
    "  \"FLORIDA REGION\": 0.11952,\n",
    "  \"CHICAGO REGION\": 0.25411,\n",
    "  \"HEARTLAND REGION\": 0.37284,\n",
    "  \"HOUSTON REGION\": 0.39264,\n",
    "  \"BIG SOUTH REGION\": 0.60154,\n",
    "}\n",
    "\n",
    "df[\"REGION_NAME_OLD\"].apply(lambda s: EBIN1405006_V08.get(s.strip().upper()) or 0)"
   ]
  },
  {
   "cell_type": "code",
   "execution_count": 3,
   "metadata": {},
   "outputs": [
    {
     "ename": "AttributeError",
     "evalue": "'Series' object has no attribute 'strip'",
     "output_type": "error",
     "traceback": [
      "\u001b[0;31m---------------------------------------------------------------------------\u001b[0m",
      "\u001b[0;31mAttributeError\u001b[0m                            Traceback (most recent call last)",
      "\u001b[0;32m<ipython-input-3-c014760ec9db>\u001b[0m in \u001b[0;36m<module>\u001b[0;34m()\u001b[0m\n\u001b[1;32m     16\u001b[0m   \u001b[0;34m\"HOUSTON REGION\"\u001b[0m\u001b[0;34m:\u001b[0m \u001b[0;36m0.39264\u001b[0m\u001b[0;34m,\u001b[0m\u001b[0;34m\u001b[0m\u001b[0m\n\u001b[1;32m     17\u001b[0m   \u001b[0;34m\"BIG SOUTH REGION\"\u001b[0m\u001b[0;34m:\u001b[0m \u001b[0;36m0.60154\u001b[0m\u001b[0;34m,\u001b[0m\u001b[0;34m\u001b[0m\u001b[0m\n\u001b[0;32m---> 18\u001b[0;31m }.get(df.REGION_NAME_OLD.strip().upper()) or 0\n\u001b[0m",
      "\u001b[0;32m~/anaconda3/lib/python3.6/site-packages/pandas/core/generic.py\u001b[0m in \u001b[0;36m__getattr__\u001b[0;34m(self, name)\u001b[0m\n\u001b[1;32m   3079\u001b[0m             \u001b[0;32mif\u001b[0m \u001b[0mname\u001b[0m \u001b[0;32min\u001b[0m \u001b[0mself\u001b[0m\u001b[0;34m.\u001b[0m\u001b[0m_info_axis\u001b[0m\u001b[0;34m:\u001b[0m\u001b[0;34m\u001b[0m\u001b[0m\n\u001b[1;32m   3080\u001b[0m                 \u001b[0;32mreturn\u001b[0m \u001b[0mself\u001b[0m\u001b[0;34m[\u001b[0m\u001b[0mname\u001b[0m\u001b[0;34m]\u001b[0m\u001b[0;34m\u001b[0m\u001b[0m\n\u001b[0;32m-> 3081\u001b[0;31m             \u001b[0;32mreturn\u001b[0m \u001b[0mobject\u001b[0m\u001b[0;34m.\u001b[0m\u001b[0m__getattribute__\u001b[0m\u001b[0;34m(\u001b[0m\u001b[0mself\u001b[0m\u001b[0;34m,\u001b[0m \u001b[0mname\u001b[0m\u001b[0;34m)\u001b[0m\u001b[0;34m\u001b[0m\u001b[0m\n\u001b[0m\u001b[1;32m   3082\u001b[0m \u001b[0;34m\u001b[0m\u001b[0m\n\u001b[1;32m   3083\u001b[0m     \u001b[0;32mdef\u001b[0m \u001b[0m__setattr__\u001b[0m\u001b[0;34m(\u001b[0m\u001b[0mself\u001b[0m\u001b[0;34m,\u001b[0m \u001b[0mname\u001b[0m\u001b[0;34m,\u001b[0m \u001b[0mvalue\u001b[0m\u001b[0;34m)\u001b[0m\u001b[0;34m:\u001b[0m\u001b[0;34m\u001b[0m\u001b[0m\n",
      "\u001b[0;31mAttributeError\u001b[0m: 'Series' object has no attribute 'strip'"
     ]
    }
   ],
   "source": [
    "EBIN1405006_V08 = {\n",
    "  \"GREATER BOSTON REGION\": -0.65033,\n",
    "  \"SEATTLE REGION\": -0.64606,\n",
    "  \"PORTLAND REGION\": -0.58842,\n",
    "  \"TWIN CITIES REGION\": -0.42426,\n",
    "  \"KEYSTONE REGION\": -0.39314,\n",
    "  \"MOUNTAIN REGION\": -0.38053,\n",
    "  \"CALIFORNIA REGION\": -0.27005,\n",
    "  \"WESTERN NEW ENGLAND REGION\": -0.26923,\n",
    "  \"FREEDOM REGION\": -0.22015,\n",
    "  \"BELTWAY REGION\": -0.17065,\n",
    "  \"MILE HIGH REGION\": -0.16072,\n",
    "  \"FLORIDA REGION\": 0.11952,\n",
    "  \"CHICAGO REGION\": 0.25411,\n",
    "  \"HEARTLAND REGION\": 0.37284,\n",
    "  \"HOUSTON REGION\": 0.39264,\n",
    "  \"BIG SOUTH REGION\": 0.60154,\n",
    "}.get(df.REGION_NAME_OLD.strip().upper()) or 0"
   ]
  },
  {
   "cell_type": "code",
   "execution_count": null,
   "metadata": {
    "collapsed": true
   },
   "outputs": [],
   "source": []
  }
 ],
 "metadata": {
  "kernelspec": {
   "display_name": "Python 3",
   "language": "python",
   "name": "python3"
  },
  "language_info": {
   "codemirror_mode": {
    "name": "ipython",
    "version": 3
   },
   "file_extension": ".py",
   "mimetype": "text/x-python",
   "name": "python",
   "nbconvert_exporter": "python",
   "pygments_lexer": "ipython3",
   "version": "3.6.2"
  }
 },
 "nbformat": 4,
 "nbformat_minor": 2
}
